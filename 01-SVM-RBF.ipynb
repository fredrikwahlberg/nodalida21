{
 "cells": [
  {
   "cell_type": "markdown",
   "metadata": {
    "colab_type": "text",
    "id": "E53gPuzAh2OV"
   },
   "source": [
    "# SVM-RBF"
   ]
  },
  {
   "cell_type": "code",
   "execution_count": 1,
   "metadata": {
    "colab": {},
    "colab_type": "code",
    "id": "exLjKh6Rv2rI"
   },
   "outputs": [],
   "source": [
    "import os\n",
    "import os.path\n",
    "import numpy as np\n",
    "import time\n",
    "from tqdm import tqdm\n",
    "\n",
    "assert os.path.exists('data')"
   ]
  },
  {
   "cell_type": "code",
   "execution_count": 2,
   "metadata": {
    "colab": {
     "base_uri": "https://localhost:8080/",
     "height": 85
    },
    "colab_type": "code",
    "id": "SGJirJ09zZet",
    "outputId": "0350b466-b606-4529-a902-52c738793c15"
   },
   "outputs": [
    {
     "data": {
      "text/plain": [
       "['data/StClare_facs_danish.npz',\n",
       " 'data/SDHK_Latin.npz',\n",
       " 'data/StClare_facs_latin.npz',\n",
       " 'data/StClare_dipl_danish.npz',\n",
       " 'data/StClare_dipl_latin.npz',\n",
       " 'data/velux_facs_danish.npz',\n",
       " 'data/SDHK_Swedish.npz',\n",
       " 'data/Colonia.npz',\n",
       " 'data/SemEval2015.npz',\n",
       " 'data/velux_dipl_latin.npz',\n",
       " 'data/velux_facs_latin.npz',\n",
       " 'data/velux_dipl_danish.npz']"
      ]
     },
     "execution_count": 2,
     "metadata": {},
     "output_type": "execute_result"
    }
   ],
   "source": [
    "def load_dataset(data_source_filename):\n",
    "  print(\"Loading %s... \" % data_source_filename.split(\"/\")[-1], end=\"\")\n",
    "  t = time.time()\n",
    "  dataset = dict()\n",
    "  with np.load(data_source_filename, allow_pickle=True) as source_file:\n",
    "    for key in source_file.keys():\n",
    "      # print(key)\n",
    "      dataset[key] = source_file[key].tolist()\n",
    "  print(\"done (%.1fs)\" % (time.time()-t), flush=True)\n",
    "  return dataset\n",
    "\n",
    "data_source_filenames = [os.path.join('data', fn) for fn in os.listdir('data')\n",
    "                            if os.path.isfile(os.path.join('data', fn)) and fn[-3:]=='npz']\n",
    "data_source_filenames"
   ]
  },
  {
   "cell_type": "code",
   "execution_count": 3,
   "metadata": {
    "colab": {},
    "colab_type": "code",
    "id": "cfyNm3q7WBb0"
   },
   "outputs": [],
   "source": [
    "from sklearn.svm import SVC\n",
    "from sklearn.preprocessing import StandardScaler\n",
    "from sklearn.metrics import accuracy_score\n",
    "from sklearn.feature_selection import SelectKBest\n",
    "from sklearn.feature_selection import chi2\n",
    "from sklearn.model_selection import ParameterGrid\n",
    "\n",
    "bin_width = 25\n",
    "n_features_max = 1000\n",
    "n_samples_limit = 3000\n",
    "\n",
    "results = dict()"
   ]
  },
  {
   "cell_type": "code",
   "execution_count": 6,
   "metadata": {
    "colab": {
     "base_uri": "https://localhost:8080/",
     "height": 799
    },
    "colab_type": "code",
    "id": "oF_VTZESh-gj",
    "outputId": "16dfdf2c-aa02-4552-efc7-3da40c02558d"
   },
   "outputs": [],
   "source": [
    "for data_source_filename in set(data_source_filenames).difference(set(results.keys())):\n",
    "#for data_source_filename in data_source_filenames:\n",
    "    dataset = load_dataset(data_source_filename)\n",
    "    y = np.asarray([np.mean(item['date']) if type(item['date']) is tuple else item['date'] for item in dataset['data']], np.int)\n",
    "    y = bin_width*(y//bin_width)\n",
    "    print(\" Classes in data: %s\" % np.unique(y))\n",
    "    \n",
    "    training_set = dataset['folds']['train']\n",
    "    validation_set = dataset['folds']['val']\n",
    "    test_set = dataset['folds']['test']\n",
    "    training_validation_set = list()\n",
    "    training_validation_set.extend(training_set)\n",
    "    training_validation_set.extend(validation_set)\n",
    "\n",
    "    # Subsample\n",
    "    if len(training_validation_set) > n_samples_limit:\n",
    "        print(\" Training data too large (%i), subsampling to %i\" % (len(training_validation_set), n_samples_limit))\n",
    "        training_validation_set = np.asarray(training_validation_set)[np.linspace(0, len(training_validation_set), n_samples_limit, endpoint=False, dtype=np.int)]\n",
    "\n",
    "    results[data_source_filename] = dict()\n",
    "    print(\" Running estimations\", flush=True)\n",
    "    for feature_set in list(dataset['feature_sets'].keys()):\n",
    "        X = dataset['feature_sets'][feature_set]\n",
    "        print(\"  Loaded feature set %s\" % feature_set)\n",
    "        n_samples, n_features = X.shape\n",
    "        y_pred = np.zeros(y.shape)\n",
    "        # Chi^2 feature selection\n",
    "        if n_features > n_features_max:\n",
    "            print(\"   Reducing feature space\")\n",
    "            given_data = list()\n",
    "            given_data.extend(training_set)\n",
    "            given_data.extend(validation_set)\n",
    "            feature_selector = SelectKBest(chi2, k=n_features_max).fit(X[given_data], y[given_data])\n",
    "            X = feature_selector.transform(X)\n",
    "            n_features = X.shape[1]\n",
    "        # Zero mean\n",
    "        print(\"   Rescaling\")\n",
    "        X = X.tocsc(copy=True).astype(np.float)\n",
    "        for i in range(X.shape[1]):\n",
    "            if X.indptr[i] < X.indptr[i+1]:\n",
    "                X.data[X.indptr[i]:X.indptr[i+1]] -= np.mean(X.data[X.indptr[i]:X.indptr[i+1]])\n",
    "        X = StandardScaler(with_mean=False).fit_transform(X)\n",
    "        X = X.tocsr(copy=True)\n",
    "        # Set up parameter grid\n",
    "        param_grid = {'C': np.logspace(-12, 5, 10), 'gamma': np.logspace(-10, 0, 10)}\n",
    "        param_list = list(ParameterGrid(param_grid))       \n",
    "        # Evaluate hyper-parameters\n",
    "        print(\" Making the estimator\", flush=True)\n",
    "        validation_accuracy = list()\n",
    "        for params in tqdm(param_list, desc=\"  Searching for hyper-parameters\"):\n",
    "            estimator = SVC(class_weight='balanced', **params)\n",
    "            estimator.fit(X[training_set, :], y[training_set])\n",
    "            validation_accuracy.append(accuracy_score(y[validation_set], estimator.predict(X[validation_set, :]).ravel()))\n",
    "        # Pick best hyperparameters and run with training and validation data\n",
    "        print(\"  Best hyper-parameters:\", param_list[np.argmax(validation_accuracy)])\n",
    "        estimator = SVC(class_weight='balanced', **param_list[np.argmax(validation_accuracy)])\n",
    "        estimator.fit(X[training_validation_set, :], y[training_validation_set])\n",
    "        # Predict\n",
    "        y_pred = estimator.predict(X[test_set, :])\n",
    "        results[data_source_filename][feature_set] = {'accuracy': accuracy_score(y[test_set], y_pred), \n",
    "                                                      'y_pred': y_pred, 'y_true': y[test_set]}\n",
    "\n",
    "    print()\n",
    "    print(\" Results\")\n",
    "    for feature_set in results[data_source_filename].keys():\n",
    "        print(\"  %s, %.1f%%\" % (feature_set, 100*results[data_source_filename][feature_set]['accuracy']))\n",
    "        print(\"  unique predicted classes: %s\" % np.unique(results[data_source_filename][feature_set]['y_pred']))\n",
    "\n",
    "    def class_counter(data):\n",
    "        count = dict()\n",
    "        for e in data:\n",
    "            if e in count:\n",
    "                count[e] += 1\n",
    "            else:\n",
    "                count[e] = 1\n",
    "        return count\n",
    "\n",
    "    count = class_counter(y)\n",
    "    print(\" Controls\")\n",
    "    print(\"  MLE choice: %.1f%%\" % (100*np.max(list(count.values()))/len(y)))\n",
    "    print(\"  Uniform: %.1f%%\" % (100*np.mean([np.sum(np.random.choice(np.unique(y), size=len(y), replace=True)==y)/len(y) for i in range(1000)])))\n",
    "    print(\"  Weighted: %.1f%%\" % (100*np.mean([np.sum(np.random.choice(y, size=len(y), replace=False)==y)/len(y) for i in range(1000)])))"
   ]
  },
  {
   "cell_type": "code",
   "execution_count": 5,
   "metadata": {
    "colab": {
     "base_uri": "https://localhost:8080/",
     "height": 799
    },
    "colab_type": "code",
    "id": "oF_VTZESh-gj",
    "outputId": "16dfdf2c-aa02-4552-efc7-3da40c02558d"
   },
   "outputs": [
    {
     "name": "stdout",
     "output_type": "stream",
     "text": [
      "Loading StClare_dipl_latin.npz... done (0.1s)\n",
      " Saving StClare_dipl_latin.npz... done (0.3s)\n",
      "Loading SemEval2015.npz... done (0.2s)\n",
      " Saving SemEval2015.npz... done (1.1s)\n",
      "Loading SDHK_Latin.npz... done (1.5s)\n",
      " Saving SDHK_Latin.npz... done (6.7s)\n",
      "Loading SDHK_Swedish.npz... done (0.5s)\n",
      " Saving SDHK_Swedish.npz... done (2.7s)\n",
      "Loading StClare_facs_danish.npz... done (0.0s)\n",
      " Saving StClare_facs_danish.npz... done (0.1s)\n",
      "Loading Colonia.npz... done (5.4s)\n",
      " Saving Colonia.npz... done (16.3s)\n",
      "Loading velux_dipl_latin.npz... done (0.1s)\n",
      " Saving velux_dipl_latin.npz... done (0.3s)\n",
      "Loading velux_dipl_danish.npz... done (0.0s)\n",
      " Saving velux_dipl_danish.npz... done (0.1s)\n",
      "Loading StClare_dipl_danish.npz... done (0.0s)\n",
      " Saving StClare_dipl_danish.npz... done (0.1s)\n",
      "Loading velux_facs_danish.npz... done (0.0s)\n",
      " Saving velux_facs_danish.npz... done (0.1s)\n",
      "Loading velux_facs_latin.npz... done (0.1s)\n",
      " Saving velux_facs_latin.npz... done (0.4s)\n",
      "Loading StClare_facs_latin.npz... done (0.1s)\n",
      " Saving StClare_facs_latin.npz... done (0.4s)\n"
     ]
    }
   ],
   "source": [
    "for data_source_filename in results.keys():\n",
    "    dataset = load_dataset(data_source_filename)\n",
    "    print(\" Saving %s... \" % data_source_filename.split(\"/\")[-1], end=\"\")\n",
    "    t = time.time()\n",
    "    if 'svc' in dataset.keys():\n",
    "        dataset.pop('svc')\n",
    "    np.savez_compressed(data_source_filename, **dataset, svc=results[data_source_filename])\n",
    "    print(\"done (%.1fs)\" % (time.time()-t), flush=True)"
   ]
  }
 ],
 "metadata": {
  "colab": {
   "name": "Dating - NB & SVM.ipynb",
   "provenance": [],
   "toc_visible": true
  },
  "kernelspec": {
   "display_name": "Python 3",
   "language": "python",
   "name": "python3"
  },
  "language_info": {
   "codemirror_mode": {
    "name": "ipython",
    "version": 3
   },
   "file_extension": ".py",
   "mimetype": "text/x-python",
   "name": "python",
   "nbconvert_exporter": "python",
   "pygments_lexer": "ipython3",
   "version": "3.7.4"
  }
 },
 "nbformat": 4,
 "nbformat_minor": 4
}
