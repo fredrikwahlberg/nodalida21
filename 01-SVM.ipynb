{
 "cells": [
  {
   "cell_type": "markdown",
   "metadata": {
    "colab_type": "text",
    "id": "E53gPuzAh2OV"
   },
   "source": [
    "# SVM"
   ]
  },
  {
   "cell_type": "code",
   "execution_count": 1,
   "metadata": {
    "colab": {},
    "colab_type": "code",
    "id": "exLjKh6Rv2rI"
   },
   "outputs": [],
   "source": [
    "import os\n",
    "import os.path\n",
    "import numpy as np\n",
    "import time\n",
    "from tqdm import tqdm\n",
    "\n",
    "assert os.path.exists('data')"
   ]
  },
  {
   "cell_type": "code",
   "execution_count": 2,
   "metadata": {
    "colab": {
     "base_uri": "https://localhost:8080/",
     "height": 85
    },
    "colab_type": "code",
    "id": "SGJirJ09zZet",
    "outputId": "0350b466-b606-4529-a902-52c738793c15"
   },
   "outputs": [
    {
     "data": {
      "text/plain": [
       "['data/StClare_facs_danish.npz',\n",
       " 'data/SDHK_Latin.npz',\n",
       " 'data/StClare_facs_latin.npz',\n",
       " 'data/StClare_dipl_danish.npz',\n",
       " 'data/StClare_dipl_latin.npz',\n",
       " 'data/velux_facs_danish.npz',\n",
       " 'data/SDHK_Swedish.npz',\n",
       " 'data/Colonia.npz',\n",
       " 'data/SemEval2015.npz',\n",
       " 'data/velux_dipl_latin.npz',\n",
       " 'data/velux_facs_latin.npz',\n",
       " 'data/velux_dipl_danish.npz']"
      ]
     },
     "execution_count": 2,
     "metadata": {},
     "output_type": "execute_result"
    }
   ],
   "source": [
    "def load_dataset(data_source_filename):\n",
    "  print(\"Loading %s... \" % data_source_filename.split(\"/\")[-1], end=\"\")\n",
    "  t = time.time()\n",
    "  dataset = dict()\n",
    "  with np.load(data_source_filename, allow_pickle=True) as source_file:\n",
    "    for key in source_file.keys():\n",
    "      # print(key)\n",
    "      dataset[key] = source_file[key].tolist()\n",
    "  print(\"done (%.1fs)\" % (time.time()-t), flush=True)\n",
    "  return dataset\n",
    "\n",
    "data_source_filenames = [os.path.join('data', fn) for fn in os.listdir('data')\n",
    "                            if os.path.isfile(os.path.join('data', fn)) and fn[-3:]=='npz']\n",
    "data_source_filenames"
   ]
  },
  {
   "cell_type": "code",
   "execution_count": 3,
   "metadata": {
    "colab": {},
    "colab_type": "code",
    "id": "cfyNm3q7WBb0"
   },
   "outputs": [],
   "source": [
    "from sklearn.svm import LinearSVC\n",
    "from sklearn.preprocessing import StandardScaler\n",
    "from sklearn.metrics import accuracy_score\n",
    "from sklearn.feature_selection import SelectKBest\n",
    "from sklearn.feature_selection import chi2\n",
    "\n",
    "bin_width = 25\n",
    "n_features_max = 1000\n",
    "\n",
    "results = dict()"
   ]
  },
  {
   "cell_type": "code",
   "execution_count": 4,
   "metadata": {
    "colab": {
     "base_uri": "https://localhost:8080/",
     "height": 799
    },
    "colab_type": "code",
    "id": "oF_VTZESh-gj",
    "outputId": "16dfdf2c-aa02-4552-efc7-3da40c02558d"
   },
   "outputs": [
    {
     "name": "stdout",
     "output_type": "stream",
     "text": [
      "Loading velux_dipl_latin.npz... done (0.1s)\n",
      " Classes in data: [1250 1275 1300 1325 1350 1375 1400 1425 1450 1475 1500 1525]\n",
      " Running estimations\n",
      "  Loaded feature set bow_words\n",
      "   Reducing feature space\n",
      " Making the estimator\n"
     ]
    },
    {
     "name": "stderr",
     "output_type": "stream",
     "text": [
      "  Searching for regularisation parameter C:   0%|          | 0/20 [00:00<?, ?it/s]/home/fredrik/anaconda3/lib/python3.7/site-packages/sklearn/svm/_base.py:977: ConvergenceWarning: Liblinear failed to converge, increase the number of iterations.\n",
      "  \"the number of iterations.\", ConvergenceWarning)\n",
      "  Searching for regularisation parameter C: 100%|██████████| 20/20 [00:00<00:00, 29.11it/s] "
     ]
    },
    {
     "name": "stdout",
     "output_type": "stream",
     "text": [
      "  Best C: 6.158482110660255e-10\n",
      "  Loaded feature set tfidf_words\n",
      "   Reducing feature space\n",
      " Making the estimator\n"
     ]
    },
    {
     "name": "stderr",
     "output_type": "stream",
     "text": [
      "\n",
      "  Searching for regularisation parameter C:   0%|          | 0/20 [00:00<?, ?it/s]/home/fredrik/anaconda3/lib/python3.7/site-packages/sklearn/svm/_base.py:977: ConvergenceWarning: Liblinear failed to converge, increase the number of iterations.\n",
      "  \"the number of iterations.\", ConvergenceWarning)\n",
      "  Searching for regularisation parameter C: 100%|██████████| 20/20 [00:00<00:00, 40.48it/s]"
     ]
    },
    {
     "name": "stdout",
     "output_type": "stream",
     "text": [
      "  Best C: 0.007847599703514624\n",
      "  Loaded feature set character_ngram_1\n",
      " Making the estimator\n"
     ]
    },
    {
     "name": "stderr",
     "output_type": "stream",
     "text": [
      "\n",
      "  Searching for regularisation parameter C: 100%|██████████| 20/20 [00:02<00:00,  7.21it/s]"
     ]
    },
    {
     "name": "stdout",
     "output_type": "stream",
     "text": [
      "  Best C: 0.00020691380811147902\n",
      "  Loaded feature set character_ngram_2\n",
      "   Reducing feature space\n",
      " Making the estimator\n"
     ]
    },
    {
     "name": "stderr",
     "output_type": "stream",
     "text": [
      "\n",
      "  Searching for regularisation parameter C: 100%|██████████| 20/20 [00:00<00:00, 29.00it/s]\n"
     ]
    },
    {
     "name": "stdout",
     "output_type": "stream",
     "text": [
      "  Best C: 0.00020691380811147902\n",
      "  Loaded feature set character_ngram_3\n",
      "   Reducing feature space\n",
      " Making the estimator\n"
     ]
    },
    {
     "name": "stderr",
     "output_type": "stream",
     "text": [
      "  Searching for regularisation parameter C: 100%|██████████| 20/20 [00:00<00:00, 33.41it/s] "
     ]
    },
    {
     "name": "stdout",
     "output_type": "stream",
     "text": [
      "  Best C: 0.0012742749857031347\n",
      "  Loaded feature set word_ngram_1\n",
      "   Reducing feature space\n",
      " Making the estimator\n"
     ]
    },
    {
     "name": "stderr",
     "output_type": "stream",
     "text": [
      "\n",
      "  Searching for regularisation parameter C: 100%|██████████| 20/20 [00:00<00:00, 84.04it/s] \n"
     ]
    },
    {
     "name": "stdout",
     "output_type": "stream",
     "text": [
      "  Best C: 0.0012742749857031347\n",
      "  Loaded feature set word_ngram_2\n",
      "   Reducing feature space\n",
      " Making the estimator\n"
     ]
    },
    {
     "name": "stderr",
     "output_type": "stream",
     "text": [
      "  Searching for regularisation parameter C:   0%|          | 0/20 [00:00<?, ?it/s]/home/fredrik/anaconda3/lib/python3.7/site-packages/sklearn/svm/_base.py:977: ConvergenceWarning: Liblinear failed to converge, increase the number of iterations.\n",
      "  \"the number of iterations.\", ConvergenceWarning)\n",
      "  Searching for regularisation parameter C: 100%|██████████| 20/20 [00:00<00:00, 28.26it/s]\n"
     ]
    },
    {
     "name": "stdout",
     "output_type": "stream",
     "text": [
      "  Best C: 0.0012742749857031347\n",
      "  Loaded feature set word_ngram_3\n",
      "   Reducing feature space\n",
      " Making the estimator\n"
     ]
    },
    {
     "name": "stderr",
     "output_type": "stream",
     "text": [
      "  Searching for regularisation parameter C:   0%|          | 0/20 [00:00<?, ?it/s]/home/fredrik/anaconda3/lib/python3.7/site-packages/sklearn/svm/_base.py:977: ConvergenceWarning: Liblinear failed to converge, increase the number of iterations.\n",
      "  \"the number of iterations.\", ConvergenceWarning)\n",
      "  Searching for regularisation parameter C: 100%|██████████| 20/20 [00:00<00:00, 28.45it/s]"
     ]
    },
    {
     "name": "stdout",
     "output_type": "stream",
     "text": [
      "  Best C: 6.158482110660255e-10\n",
      "\n",
      " Results\n",
      "  bow_words, 19.7%\n",
      "  unique predicted classes: [1300]\n",
      "  tfidf_words, 22.5%\n",
      "  unique predicted classes: [1250 1275 1300 1325 1350 1375 1400]\n",
      "  character_ngram_1, 33.8%\n",
      "  unique predicted classes: [1250 1275 1300 1325 1350 1375 1400 1425 1450 1475 1500]\n",
      "  character_ngram_2, 49.3%\n",
      "  unique predicted classes: [1250 1275 1300 1325 1350 1375 1400 1450 1500]\n",
      "  character_ngram_3, 49.3%\n",
      "  unique predicted classes: [1250 1275 1300 1325 1350 1375 1400 1425 1500]\n",
      "  word_ngram_1, 39.4%\n",
      "  unique predicted classes: [1250 1275 1300 1325 1350 1375 1400]\n",
      "  word_ngram_2, 29.6%\n",
      "  unique predicted classes: [1250 1275 1300 1325 1350 1375 1400]\n",
      "  word_ngram_3, 21.1%\n",
      "  unique predicted classes: [1250 1275 1300 1325 1425 1475 1500]\n",
      " Controls\n",
      "  MLE choice: 19.3%\n",
      "  Uniform: 8.3%\n",
      "  Weighted: 14.6%\n",
      "Loading StClare_dipl_danish.npz... done (0.0s)\n",
      " Classes in data: [1400 1425 1450 1475 1500 1525 1550 1575]\n",
      " Running estimations\n",
      "  Loaded feature set bow_words\n",
      "   Reducing feature space\n",
      " Making the estimator\n"
     ]
    },
    {
     "name": "stderr",
     "output_type": "stream",
     "text": [
      "\n",
      "  Searching for regularisation parameter C:   0%|          | 0/20 [00:00<?, ?it/s]/home/fredrik/anaconda3/lib/python3.7/site-packages/sklearn/svm/_base.py:977: ConvergenceWarning: Liblinear failed to converge, increase the number of iterations.\n",
      "  \"the number of iterations.\", ConvergenceWarning)\n",
      "  Searching for regularisation parameter C: 100%|██████████| 20/20 [00:00<00:00, 86.92it/s] "
     ]
    },
    {
     "name": "stdout",
     "output_type": "stream",
     "text": [
      "  Best C: 1e-10\n",
      "  Loaded feature set tfidf_words\n",
      "   Reducing feature space\n",
      " Making the estimator\n"
     ]
    },
    {
     "name": "stderr",
     "output_type": "stream",
     "text": [
      "\n",
      "  Searching for regularisation parameter C: 100%|██████████| 20/20 [00:00<00:00, 690.50it/s]"
     ]
    },
    {
     "name": "stdout",
     "output_type": "stream",
     "text": [
      "  Best C: 0.00020691380811147902\n",
      "  Loaded feature set character_ngram_1\n",
      " Making the estimator\n"
     ]
    },
    {
     "name": "stderr",
     "output_type": "stream",
     "text": [
      "\n",
      "  Searching for regularisation parameter C:   0%|          | 0/20 [00:00<?, ?it/s]/home/fredrik/anaconda3/lib/python3.7/site-packages/sklearn/svm/_base.py:977: ConvergenceWarning: Liblinear failed to converge, increase the number of iterations.\n",
      "  \"the number of iterations.\", ConvergenceWarning)\n",
      "  Searching for regularisation parameter C: 100%|██████████| 20/20 [00:00<00:00, 73.11it/s]"
     ]
    },
    {
     "name": "stdout",
     "output_type": "stream",
     "text": [
      "  Best C: 1e-10\n",
      "  Loaded feature set character_ngram_2\n",
      " Making the estimator\n"
     ]
    },
    {
     "name": "stderr",
     "output_type": "stream",
     "text": [
      "\n",
      "  Searching for regularisation parameter C: 100%|██████████| 20/20 [00:00<00:00, 232.77it/s]"
     ]
    },
    {
     "name": "stdout",
     "output_type": "stream",
     "text": [
      "  Best C: 3.359818286283781e-05\n",
      "  Loaded feature set character_ngram_3\n",
      "   Reducing feature space\n",
      " Making the estimator\n"
     ]
    },
    {
     "name": "stderr",
     "output_type": "stream",
     "text": [
      "\n",
      "  Searching for regularisation parameter C: 100%|██████████| 20/20 [00:00<00:00, 324.22it/s]\n"
     ]
    },
    {
     "name": "stdout",
     "output_type": "stream",
     "text": [
      "  Best C: 0.00020691380811147902\n",
      "  Loaded feature set word_ngram_1\n",
      "   Reducing feature space\n",
      " Making the estimator\n"
     ]
    },
    {
     "name": "stderr",
     "output_type": "stream",
     "text": [
      "  Searching for regularisation parameter C: 100%|██████████| 20/20 [00:00<00:00, 669.11it/s]"
     ]
    },
    {
     "name": "stdout",
     "output_type": "stream",
     "text": [
      "  Best C: 0.04832930238571752\n",
      "  Loaded feature set word_ngram_2\n",
      "   Reducing feature space\n",
      " Making the estimator\n"
     ]
    },
    {
     "name": "stderr",
     "output_type": "stream",
     "text": [
      "\n",
      "  Searching for regularisation parameter C:   0%|          | 0/20 [00:00<?, ?it/s]/home/fredrik/anaconda3/lib/python3.7/site-packages/sklearn/svm/_base.py:977: ConvergenceWarning: Liblinear failed to converge, increase the number of iterations.\n",
      "  \"the number of iterations.\", ConvergenceWarning)\n",
      "  Searching for regularisation parameter C: 100%|██████████| 20/20 [00:00<00:00, 284.51it/s]\n"
     ]
    },
    {
     "name": "stdout",
     "output_type": "stream",
     "text": [
      "  Best C: 1e-10\n",
      "  Loaded feature set word_ngram_3\n",
      "   Reducing feature space\n",
      " Making the estimator\n"
     ]
    },
    {
     "name": "stderr",
     "output_type": "stream",
     "text": [
      "  Searching for regularisation parameter C:   0%|          | 0/20 [00:00<?, ?it/s]/home/fredrik/anaconda3/lib/python3.7/site-packages/sklearn/svm/_base.py:977: ConvergenceWarning: Liblinear failed to converge, increase the number of iterations.\n",
      "  \"the number of iterations.\", ConvergenceWarning)\n",
      "  Searching for regularisation parameter C: 100%|██████████| 20/20 [00:00<00:00, 78.95it/s] "
     ]
    },
    {
     "name": "stdout",
     "output_type": "stream",
     "text": [
      "  Best C: 0.2976351441631313\n",
      "\n",
      " Results\n",
      "  bow_words, 15.8%\n",
      "  unique predicted classes: [1450]\n",
      "  tfidf_words, 10.5%\n",
      "  unique predicted classes: [1400 1425 1450 1475 1500 1525 1550 1575]\n",
      "  character_ngram_1, 26.3%\n",
      "  unique predicted classes: [1400 1425 1450 1475 1500 1525 1550 1575]\n",
      "  character_ngram_2, 52.6%\n",
      "  unique predicted classes: [1400 1425 1450 1475 1500 1525 1550 1575]\n",
      "  character_ngram_3, 42.1%\n",
      "  unique predicted classes: [1425 1450 1475 1500 1525 1550]\n",
      "  word_ngram_1, 5.3%\n",
      "  unique predicted classes: [1400 1425 1450 1475 1500 1525 1575]\n",
      "  word_ngram_2, 10.5%\n",
      "  unique predicted classes: [1400 1425 1450 1475 1500 1525 1550 1575]\n",
      "  word_ngram_3, 10.5%\n",
      "  unique predicted classes: [1400 1450 1475]\n",
      " Controls\n",
      "  MLE choice: 17.3%\n",
      "  Uniform: 12.4%\n",
      "  Weighted: 14.0%\n",
      "Loading velux_dipl_danish.npz... done (0.0s)\n",
      " Classes in data: [1400 1425 1450 1475 1500 1525 1550 1575]\n",
      " Running estimations\n",
      "  Loaded feature set bow_words\n",
      "   Reducing feature space\n",
      " Making the estimator\n"
     ]
    },
    {
     "name": "stderr",
     "output_type": "stream",
     "text": [
      "\n",
      "  Searching for regularisation parameter C:   0%|          | 0/20 [00:00<?, ?it/s]/home/fredrik/anaconda3/lib/python3.7/site-packages/sklearn/svm/_base.py:977: ConvergenceWarning: Liblinear failed to converge, increase the number of iterations.\n",
      "  \"the number of iterations.\", ConvergenceWarning)\n",
      "  Searching for regularisation parameter C: 100%|██████████| 20/20 [00:00<00:00, 87.59it/s] "
     ]
    },
    {
     "name": "stdout",
     "output_type": "stream",
     "text": [
      "  Best C: 1e-10\n",
      "  Loaded feature set tfidf_words\n",
      "   Reducing feature space\n",
      " Making the estimator\n"
     ]
    },
    {
     "name": "stderr",
     "output_type": "stream",
     "text": [
      "\n",
      "  Searching for regularisation parameter C: 100%|██████████| 20/20 [00:00<00:00, 737.22it/s]"
     ]
    },
    {
     "name": "stdout",
     "output_type": "stream",
     "text": [
      "  Best C: 0.00020691380811147902\n",
      "  Loaded feature set character_ngram_1\n",
      " Making the estimator\n"
     ]
    },
    {
     "name": "stderr",
     "output_type": "stream",
     "text": [
      "\n",
      "  Searching for regularisation parameter C:   0%|          | 0/20 [00:00<?, ?it/s]/home/fredrik/anaconda3/lib/python3.7/site-packages/sklearn/svm/_base.py:977: ConvergenceWarning: Liblinear failed to converge, increase the number of iterations.\n",
      "  \"the number of iterations.\", ConvergenceWarning)\n",
      "  Searching for regularisation parameter C: 100%|██████████| 20/20 [00:00<00:00, 56.56it/s] "
     ]
    },
    {
     "name": "stdout",
     "output_type": "stream",
     "text": [
      "  Best C: 0.0012742749857031347\n",
      "  Loaded feature set character_ngram_2\n",
      "   Reducing feature space\n",
      " Making the estimator\n"
     ]
    },
    {
     "name": "stderr",
     "output_type": "stream",
     "text": [
      "\n",
      "  Searching for regularisation parameter C: 100%|██████████| 20/20 [00:00<00:00, 174.68it/s]"
     ]
    },
    {
     "name": "stdout",
     "output_type": "stream",
     "text": [
      "  Best C: 0.00020691380811147902\n",
      "  Loaded feature set character_ngram_3\n",
      "   Reducing feature space\n",
      " Making the estimator\n"
     ]
    },
    {
     "name": "stderr",
     "output_type": "stream",
     "text": [
      "\n",
      "  Searching for regularisation parameter C: 100%|██████████| 20/20 [00:00<00:00, 335.45it/s]"
     ]
    },
    {
     "name": "stdout",
     "output_type": "stream",
     "text": [
      "  Best C: 1e-10\n",
      "  Loaded feature set word_ngram_1\n",
      "   Reducing feature space\n",
      " Making the estimator\n"
     ]
    },
    {
     "name": "stderr",
     "output_type": "stream",
     "text": [
      "\n",
      "  Searching for regularisation parameter C: 100%|██████████| 20/20 [00:00<00:00, 620.56it/s]\n"
     ]
    },
    {
     "name": "stdout",
     "output_type": "stream",
     "text": [
      "  Best C: 0.0012742749857031347\n",
      "  Loaded feature set word_ngram_2\n",
      "   Reducing feature space\n",
      " Making the estimator\n"
     ]
    },
    {
     "name": "stderr",
     "output_type": "stream",
     "text": [
      "  Searching for regularisation parameter C: 100%|██████████| 20/20 [00:00<00:00, 646.05it/s]"
     ]
    },
    {
     "name": "stdout",
     "output_type": "stream",
     "text": [
      "  Best C: 0.2976351441631313\n",
      "  Loaded feature set word_ngram_3\n",
      "   Reducing feature space\n",
      " Making the estimator\n"
     ]
    },
    {
     "name": "stderr",
     "output_type": "stream",
     "text": [
      "\n",
      "  Searching for regularisation parameter C:   0%|          | 0/20 [00:00<?, ?it/s]/home/fredrik/anaconda3/lib/python3.7/site-packages/sklearn/svm/_base.py:977: ConvergenceWarning: Liblinear failed to converge, increase the number of iterations.\n",
      "  \"the number of iterations.\", ConvergenceWarning)\n",
      "  Searching for regularisation parameter C: 100%|██████████| 20/20 [00:00<00:00, 130.53it/s]\n"
     ]
    },
    {
     "name": "stdout",
     "output_type": "stream",
     "text": [
      "  Best C: 1e-10\n",
      "\n",
      " Results\n",
      "  bow_words, 15.8%\n",
      "  unique predicted classes: [1450]\n",
      "  tfidf_words, 5.3%\n",
      "  unique predicted classes: [1400 1425 1450 1475 1500 1525 1550]\n",
      "  character_ngram_1, 21.1%\n",
      "  unique predicted classes: [1400 1425 1450 1475 1500 1525 1550 1575]\n",
      "  character_ngram_2, 47.4%\n",
      "  unique predicted classes: [1400 1425 1450 1475 1500 1525 1550 1575]\n",
      "  character_ngram_3, 36.8%\n",
      "  unique predicted classes: [1425 1450 1475 1500 1525 1550 1575]\n",
      "  word_ngram_1, 10.5%\n",
      "  unique predicted classes: [1400 1425 1450 1475 1500 1525]\n",
      "  word_ngram_2, 21.1%\n",
      "  unique predicted classes: [1425 1450 1475 1500 1525]\n",
      "  word_ngram_3, 21.1%\n",
      "  unique predicted classes: [1400 1425 1450 1475 1500 1525 1550]\n",
      " Controls\n",
      "  MLE choice: 17.3%\n",
      "  Uniform: 12.5%\n",
      "  Weighted: 13.8%\n",
      "Loading velux_facs_danish.npz... done (0.0s)\n",
      " Classes in data: [1400 1425 1450 1475 1500 1525 1550 1575]\n",
      " Running estimations\n",
      "  Loaded feature set bow_words\n",
      "   Reducing feature space\n",
      " Making the estimator\n"
     ]
    },
    {
     "name": "stderr",
     "output_type": "stream",
     "text": [
      "  Searching for regularisation parameter C:   0%|          | 0/20 [00:00<?, ?it/s]/home/fredrik/anaconda3/lib/python3.7/site-packages/sklearn/svm/_base.py:977: ConvergenceWarning: Liblinear failed to converge, increase the number of iterations.\n",
      "  \"the number of iterations.\", ConvergenceWarning)\n",
      "  Searching for regularisation parameter C: 100%|██████████| 20/20 [00:00<00:00, 86.10it/s] "
     ]
    },
    {
     "name": "stdout",
     "output_type": "stream",
     "text": [
      "  Best C: 1e-10\n",
      "  Loaded feature set tfidf_words\n",
      "   Reducing feature space\n",
      " Making the estimator\n"
     ]
    },
    {
     "name": "stderr",
     "output_type": "stream",
     "text": [
      "\n",
      "  Searching for regularisation parameter C: 100%|██████████| 20/20 [00:00<00:00, 705.70it/s]"
     ]
    },
    {
     "name": "stdout",
     "output_type": "stream",
     "text": [
      "  Best C: 0.007847599703514624\n",
      "  Loaded feature set character_ngram_1\n",
      " Making the estimator\n"
     ]
    },
    {
     "name": "stderr",
     "output_type": "stream",
     "text": [
      "\n",
      "  Searching for regularisation parameter C: 100%|██████████| 20/20 [00:00<00:00, 518.20it/s]"
     ]
    },
    {
     "name": "stdout",
     "output_type": "stream",
     "text": [
      "  Best C: 1e-10\n",
      "  Loaded feature set character_ngram_2\n",
      "   Reducing feature space\n",
      " Making the estimator\n"
     ]
    },
    {
     "name": "stderr",
     "output_type": "stream",
     "text": [
      "\n",
      "  Searching for regularisation parameter C: 100%|██████████| 20/20 [00:00<00:00, 296.54it/s]"
     ]
    },
    {
     "name": "stdout",
     "output_type": "stream",
     "text": [
      "  Best C: 1e-10\n",
      "  Loaded feature set character_ngram_3\n",
      "   Reducing feature space\n",
      " Making the estimator\n"
     ]
    },
    {
     "name": "stderr",
     "output_type": "stream",
     "text": [
      "\n",
      "  Searching for regularisation parameter C: 100%|██████████| 20/20 [00:00<00:00, 298.88it/s]\n"
     ]
    },
    {
     "name": "stdout",
     "output_type": "stream",
     "text": [
      "  Best C: 0.007847599703514624\n",
      "  Loaded feature set word_ngram_1\n",
      "   Reducing feature space\n",
      " Making the estimator\n"
     ]
    },
    {
     "name": "stderr",
     "output_type": "stream",
     "text": [
      "  Searching for regularisation parameter C: 100%|██████████| 20/20 [00:00<00:00, 496.63it/s]\n"
     ]
    },
    {
     "name": "stdout",
     "output_type": "stream",
     "text": [
      "  Best C: 1e-10\n",
      "  Loaded feature set word_ngram_2\n",
      "   Reducing feature space\n",
      " Making the estimator\n"
     ]
    },
    {
     "name": "stderr",
     "output_type": "stream",
     "text": [
      "  Searching for regularisation parameter C:   0%|          | 0/20 [00:00<?, ?it/s]/home/fredrik/anaconda3/lib/python3.7/site-packages/sklearn/svm/_base.py:977: ConvergenceWarning: Liblinear failed to converge, increase the number of iterations.\n",
      "  \"the number of iterations.\", ConvergenceWarning)\n",
      "  Searching for regularisation parameter C: 100%|██████████| 20/20 [00:00<00:00, 145.44it/s]\n"
     ]
    },
    {
     "name": "stdout",
     "output_type": "stream",
     "text": [
      "  Best C: 0.007847599703514624\n",
      "  Loaded feature set word_ngram_3\n",
      "   Reducing feature space\n",
      " Making the estimator\n"
     ]
    },
    {
     "name": "stderr",
     "output_type": "stream",
     "text": [
      "  Searching for regularisation parameter C:   0%|          | 0/20 [00:00<?, ?it/s]/home/fredrik/anaconda3/lib/python3.7/site-packages/sklearn/svm/_base.py:977: ConvergenceWarning: Liblinear failed to converge, increase the number of iterations.\n",
      "  \"the number of iterations.\", ConvergenceWarning)\n",
      "  Searching for regularisation parameter C: 100%|██████████| 20/20 [00:00<00:00, 104.73it/s]"
     ]
    },
    {
     "name": "stdout",
     "output_type": "stream",
     "text": [
      "  Best C: 0.0012742749857031347\n",
      "\n",
      " Results\n",
      "  bow_words, 15.8%\n",
      "  unique predicted classes: [1425]\n",
      "  tfidf_words, 5.3%\n",
      "  unique predicted classes: [1400 1425 1450 1475 1500 1525 1575]\n",
      "  character_ngram_1, 42.1%\n",
      "  unique predicted classes: [1400 1425 1450 1475 1500 1525 1550 1575]\n",
      "  character_ngram_2, 31.6%\n",
      "  unique predicted classes: [1400 1425 1450 1475 1500 1525 1550]\n",
      "  character_ngram_3, 21.1%\n",
      "  unique predicted classes: [1400 1425 1450 1475 1500 1525 1550]\n",
      "  word_ngram_1, 5.3%\n",
      "  unique predicted classes: [1400 1425 1450 1475 1500 1525 1550 1575]\n",
      "  word_ngram_2, 10.5%\n",
      "  unique predicted classes: [1400 1425 1450 1475 1525]\n",
      "  word_ngram_3, 21.1%\n",
      "  unique predicted classes: [1425 1450 1475]\n",
      " Controls\n",
      "  MLE choice: 17.3%\n"
     ]
    },
    {
     "name": "stderr",
     "output_type": "stream",
     "text": [
      "\n"
     ]
    },
    {
     "name": "stdout",
     "output_type": "stream",
     "text": [
      "  Uniform: 12.6%\n",
      "  Weighted: 14.2%\n",
      "Loading StClare_dipl_latin.npz... done (0.1s)\n",
      " Classes in data: [1250 1275 1300 1325 1350 1375 1400 1425 1450 1475 1500 1525]\n",
      " Running estimations\n",
      "  Loaded feature set bow_words\n",
      "   Reducing feature space\n",
      " Making the estimator\n"
     ]
    },
    {
     "name": "stderr",
     "output_type": "stream",
     "text": [
      "  Searching for regularisation parameter C:   0%|          | 0/20 [00:00<?, ?it/s]/home/fredrik/anaconda3/lib/python3.7/site-packages/sklearn/svm/_base.py:977: ConvergenceWarning: Liblinear failed to converge, increase the number of iterations.\n",
      "  \"the number of iterations.\", ConvergenceWarning)\n",
      "  Searching for regularisation parameter C: 100%|██████████| 20/20 [00:00<00:00, 36.38it/s] "
     ]
    },
    {
     "name": "stdout",
     "output_type": "stream",
     "text": [
      "  Best C: 2.3357214690901214e-08\n",
      "  Loaded feature set tfidf_words\n",
      "   Reducing feature space\n",
      " Making the estimator\n"
     ]
    },
    {
     "name": "stderr",
     "output_type": "stream",
     "text": [
      "\n",
      "  Searching for regularisation parameter C:   0%|          | 0/20 [00:00<?, ?it/s]/home/fredrik/anaconda3/lib/python3.7/site-packages/sklearn/svm/_base.py:977: ConvergenceWarning: Liblinear failed to converge, increase the number of iterations.\n",
      "  \"the number of iterations.\", ConvergenceWarning)\n",
      "  Searching for regularisation parameter C: 100%|██████████| 20/20 [00:00<00:00, 49.10it/s] "
     ]
    },
    {
     "name": "stdout",
     "output_type": "stream",
     "text": [
      "  Best C: 11.288378916846883\n",
      "  Loaded feature set character_ngram_1\n",
      " Making the estimator\n"
     ]
    },
    {
     "name": "stderr",
     "output_type": "stream",
     "text": [
      "\n",
      "  Searching for regularisation parameter C: 100%|██████████| 20/20 [00:02<00:00,  9.32it/s]"
     ]
    },
    {
     "name": "stdout",
     "output_type": "stream",
     "text": [
      "  Best C: 0.0012742749857031347\n",
      "  Loaded feature set character_ngram_2\n",
      "   Reducing feature space\n",
      " Making the estimator\n"
     ]
    },
    {
     "name": "stderr",
     "output_type": "stream",
     "text": [
      "\n",
      "  Searching for regularisation parameter C: 100%|██████████| 20/20 [00:00<00:00, 33.36it/s] "
     ]
    },
    {
     "name": "stdout",
     "output_type": "stream",
     "text": [
      "  Best C: 0.0012742749857031347\n",
      "  Loaded feature set character_ngram_3\n",
      "   Reducing feature space\n",
      " Making the estimator\n"
     ]
    },
    {
     "name": "stderr",
     "output_type": "stream",
     "text": [
      "\n",
      "  Searching for regularisation parameter C: 100%|██████████| 20/20 [00:00<00:00, 27.21it/s]"
     ]
    },
    {
     "name": "stdout",
     "output_type": "stream",
     "text": [
      "  Best C: 0.00020691380811147902\n",
      "  Loaded feature set word_ngram_1\n",
      "   Reducing feature space\n",
      " Making the estimator\n"
     ]
    },
    {
     "name": "stderr",
     "output_type": "stream",
     "text": [
      "\n",
      "  Searching for regularisation parameter C: 100%|██████████| 20/20 [00:00<00:00, 75.26it/s] \n"
     ]
    },
    {
     "name": "stdout",
     "output_type": "stream",
     "text": [
      "  Best C: 0.007847599703514624\n",
      "  Loaded feature set word_ngram_2\n",
      "   Reducing feature space\n",
      " Making the estimator\n"
     ]
    },
    {
     "name": "stderr",
     "output_type": "stream",
     "text": [
      "  Searching for regularisation parameter C:   0%|          | 0/20 [00:00<?, ?it/s]/home/fredrik/anaconda3/lib/python3.7/site-packages/sklearn/svm/_base.py:977: ConvergenceWarning: Liblinear failed to converge, increase the number of iterations.\n",
      "  \"the number of iterations.\", ConvergenceWarning)\n",
      "  Searching for regularisation parameter C: 100%|██████████| 20/20 [00:00<00:00, 35.11it/s]\n"
     ]
    },
    {
     "name": "stdout",
     "output_type": "stream",
     "text": [
      "  Best C: 0.2976351441631313\n",
      "  Loaded feature set word_ngram_3\n",
      "   Reducing feature space\n",
      " Making the estimator\n"
     ]
    },
    {
     "name": "stderr",
     "output_type": "stream",
     "text": [
      "  Searching for regularisation parameter C:   0%|          | 0/20 [00:00<?, ?it/s]/home/fredrik/anaconda3/lib/python3.7/site-packages/sklearn/svm/_base.py:977: ConvergenceWarning: Liblinear failed to converge, increase the number of iterations.\n",
      "  \"the number of iterations.\", ConvergenceWarning)\n",
      "  Searching for regularisation parameter C: 100%|██████████| 20/20 [00:00<00:00, 33.99it/s] \n"
     ]
    },
    {
     "name": "stdout",
     "output_type": "stream",
     "text": [
      "  Best C: 100000.0\n",
      "\n",
      " Results\n",
      "  bow_words, 19.7%\n",
      "  unique predicted classes: [1300]\n",
      "  tfidf_words, 32.4%\n",
      "  unique predicted classes: [1250 1275 1300 1325 1350 1375 1400]\n",
      "  character_ngram_1, 36.6%\n",
      "  unique predicted classes: [1250 1275 1300 1325 1350 1375 1400 1425 1450 1475 1500]\n",
      "  character_ngram_2, 47.9%\n",
      "  unique predicted classes: [1250 1275 1300 1325 1350 1375 1400 1450 1475 1500 1525]\n",
      "  character_ngram_3, 40.8%\n",
      "  unique predicted classes: [1250 1275 1300 1325 1350 1375 1400 1450 1475 1500]\n",
      "  word_ngram_1, 31.0%\n",
      "  unique predicted classes: [1250 1275 1300 1325 1350 1375 1400]\n",
      "  word_ngram_2, 19.7%\n",
      "  unique predicted classes: [1250 1275 1300 1325 1350 1375 1400]\n",
      "  word_ngram_3, 18.3%\n",
      "  unique predicted classes: [1250 1275 1300 1325 1375 1400]\n",
      " Controls\n",
      "  MLE choice: 19.3%\n",
      "  Uniform: 8.4%\n",
      "  Weighted: 14.5%\n",
      "Loading SDHK_Latin.npz... done (2.1s)\n",
      " Classes in data: [1100 1125 1150 1175 1200 1225 1250 1275 1300 1325 1350 1375 1400 1425\n",
      " 1450 1475 1500]\n",
      " Running estimations\n",
      "  Loaded feature set bow_words\n",
      "   Reducing feature space\n",
      " Making the estimator\n"
     ]
    },
    {
     "name": "stderr",
     "output_type": "stream",
     "text": [
      "  Searching for regularisation parameter C: 100%|██████████| 20/20 [00:00<00:00, 50.23it/s]\n"
     ]
    },
    {
     "name": "stdout",
     "output_type": "stream",
     "text": [
      "  Best C: 1e-10\n",
      "  Loaded feature set tfidf_words\n",
      "   Reducing feature space\n",
      " Making the estimator\n"
     ]
    },
    {
     "name": "stderr",
     "output_type": "stream",
     "text": [
      "  Searching for regularisation parameter C:  45%|████▌     | 9/20 [00:00<00:00, 13.69it/s]/home/fredrik/anaconda3/lib/python3.7/site-packages/sklearn/svm/_base.py:977: ConvergenceWarning: Liblinear failed to converge, increase the number of iterations.\n",
      "  \"the number of iterations.\", ConvergenceWarning)\n",
      "  Searching for regularisation parameter C: 100%|██████████| 20/20 [01:05<00:00,  3.28s/it]"
     ]
    },
    {
     "name": "stdout",
     "output_type": "stream",
     "text": [
      "  Best C: 3.359818286283781e-05\n",
      "  Loaded feature set character_ngram_1\n",
      " Making the estimator\n"
     ]
    },
    {
     "name": "stderr",
     "output_type": "stream",
     "text": [
      "\n",
      "  Searching for regularisation parameter C: 100%|██████████| 20/20 [00:15<00:00,  1.32it/s]\n"
     ]
    },
    {
     "name": "stdout",
     "output_type": "stream",
     "text": [
      "  Best C: 3.359818286283781e-05\n",
      "  Loaded feature set character_ngram_2\n",
      "   Reducing feature space\n",
      " Making the estimator\n"
     ]
    },
    {
     "name": "stderr",
     "output_type": "stream",
     "text": [
      "  Searching for regularisation parameter C:  55%|█████▌    | 11/20 [00:29<00:59,  6.60s/it]/home/fredrik/anaconda3/lib/python3.7/site-packages/sklearn/svm/_base.py:977: ConvergenceWarning: Liblinear failed to converge, increase the number of iterations.\n",
      "  \"the number of iterations.\", ConvergenceWarning)\n",
      "  Searching for regularisation parameter C: 100%|██████████| 20/20 [07:58<00:00, 23.91s/it]\n"
     ]
    },
    {
     "name": "stdout",
     "output_type": "stream",
     "text": [
      "  Best C: 0.0012742749857031347\n",
      "  Loaded feature set character_ngram_3\n",
      "   Reducing feature space\n",
      " Making the estimator\n"
     ]
    },
    {
     "name": "stderr",
     "output_type": "stream",
     "text": [
      "  Searching for regularisation parameter C:  50%|█████     | 10/20 [00:16<00:35,  3.54s/it]/home/fredrik/anaconda3/lib/python3.7/site-packages/sklearn/svm/_base.py:977: ConvergenceWarning: Liblinear failed to converge, increase the number of iterations.\n",
      "  \"the number of iterations.\", ConvergenceWarning)\n",
      "  Searching for regularisation parameter C: 100%|██████████| 20/20 [08:51<00:00, 26.59s/it]\n"
     ]
    },
    {
     "name": "stdout",
     "output_type": "stream",
     "text": [
      "  Best C: 0.00020691380811147902\n",
      "  Loaded feature set word_ngram_1\n",
      "   Reducing feature space\n",
      " Making the estimator\n"
     ]
    },
    {
     "name": "stderr",
     "output_type": "stream",
     "text": [
      "  Searching for regularisation parameter C:  45%|████▌     | 9/20 [00:01<00:02,  4.59it/s]/home/fredrik/anaconda3/lib/python3.7/site-packages/sklearn/svm/_base.py:977: ConvergenceWarning: Liblinear failed to converge, increase the number of iterations.\n",
      "  \"the number of iterations.\", ConvergenceWarning)\n",
      "  Searching for regularisation parameter C: 100%|██████████| 20/20 [01:26<00:00,  4.34s/it]\n"
     ]
    },
    {
     "name": "stdout",
     "output_type": "stream",
     "text": [
      "  Best C: 0.00020691380811147902\n",
      "  Loaded feature set word_ngram_2\n",
      "   Reducing feature space\n",
      " Making the estimator\n"
     ]
    },
    {
     "name": "stderr",
     "output_type": "stream",
     "text": [
      "  Searching for regularisation parameter C:  40%|████      | 8/20 [00:00<00:00, 30.51it/s]/home/fredrik/anaconda3/lib/python3.7/site-packages/sklearn/svm/_base.py:977: ConvergenceWarning: Liblinear failed to converge, increase the number of iterations.\n",
      "  \"the number of iterations.\", ConvergenceWarning)\n",
      "  Searching for regularisation parameter C: 100%|██████████| 20/20 [00:55<00:00,  2.78s/it]\n"
     ]
    },
    {
     "name": "stdout",
     "output_type": "stream",
     "text": [
      "  Best C: 0.00020691380811147902\n",
      "  Loaded feature set word_ngram_3\n",
      "   Reducing feature space\n",
      " Making the estimator\n"
     ]
    },
    {
     "name": "stderr",
     "output_type": "stream",
     "text": [
      "  Searching for regularisation parameter C:  50%|█████     | 10/20 [00:00<00:01,  9.22it/s]/home/fredrik/anaconda3/lib/python3.7/site-packages/sklearn/svm/_base.py:977: ConvergenceWarning: Liblinear failed to converge, increase the number of iterations.\n",
      "  \"the number of iterations.\", ConvergenceWarning)\n",
      "  Searching for regularisation parameter C: 100%|██████████| 20/20 [00:35<00:00,  1.79s/it]\n"
     ]
    },
    {
     "name": "stdout",
     "output_type": "stream",
     "text": [
      "  Best C: 0.0012742749857031347\n",
      "\n",
      " Results\n",
      "  bow_words, 26.3%\n",
      "  unique predicted classes: [1350]\n",
      "  tfidf_words, 34.6%\n",
      "  unique predicted classes: [1150 1175 1200 1225 1250 1275 1300 1325 1350 1375 1400 1425 1450 1475\n",
      " 1500]\n",
      "  character_ngram_1, 39.0%\n",
      "  unique predicted classes: [1100 1125 1150 1175 1200 1225 1250 1275 1300 1325 1350 1375 1400 1425\n",
      " 1450 1475 1500]\n",
      "  character_ngram_2, 53.6%\n",
      "  unique predicted classes: [1100 1125 1150 1175 1200 1225 1250 1275 1300 1325 1350 1375 1400 1425\n",
      " 1450 1475 1500]\n",
      "  character_ngram_3, 54.6%\n",
      "  unique predicted classes: [1125 1150 1175 1200 1225 1250 1275 1300 1325 1350 1375 1400 1425 1450\n",
      " 1475 1500]\n",
      "  word_ngram_1, 44.0%\n",
      "  unique predicted classes: [1150 1175 1200 1225 1250 1275 1300 1325 1350 1375 1400 1425 1450 1475\n",
      " 1500]\n",
      "  word_ngram_2, 34.7%\n",
      "  unique predicted classes: [1125 1150 1175 1200 1225 1250 1275 1300 1325 1350 1375 1400 1425 1450\n",
      " 1475 1500]\n",
      "  word_ngram_3, 34.3%\n",
      "  unique predicted classes: [1150 1175 1200 1225 1250 1275 1300 1325 1350 1375 1400 1450 1475 1500]\n",
      " Controls\n",
      "  MLE choice: 26.3%\n",
      "  Uniform: 5.9%\n",
      "  Weighted: 17.7%\n",
      "Loading StClare_facs_latin.npz... done (0.1s)\n",
      " Classes in data: [1250 1275 1300 1325 1350 1375 1400 1425 1450 1475 1500 1525]\n",
      " Running estimations\n",
      "  Loaded feature set bow_words\n",
      "   Reducing feature space\n",
      " Making the estimator\n"
     ]
    },
    {
     "name": "stderr",
     "output_type": "stream",
     "text": [
      "  Searching for regularisation parameter C:   0%|          | 0/20 [00:00<?, ?it/s]/home/fredrik/anaconda3/lib/python3.7/site-packages/sklearn/svm/_base.py:977: ConvergenceWarning: Liblinear failed to converge, increase the number of iterations.\n",
      "  \"the number of iterations.\", ConvergenceWarning)\n",
      "  Searching for regularisation parameter C: 100%|██████████| 20/20 [00:00<00:00, 35.69it/s]"
     ]
    },
    {
     "name": "stdout",
     "output_type": "stream",
     "text": [
      "  Best C: 8.858667904100833e-07\n",
      "  Loaded feature set tfidf_words\n",
      "   Reducing feature space\n",
      " Making the estimator\n"
     ]
    },
    {
     "name": "stderr",
     "output_type": "stream",
     "text": [
      "\n",
      "  Searching for regularisation parameter C:   0%|          | 0/20 [00:00<?, ?it/s]/home/fredrik/anaconda3/lib/python3.7/site-packages/sklearn/svm/_base.py:977: ConvergenceWarning: Liblinear failed to converge, increase the number of iterations.\n",
      "  \"the number of iterations.\", ConvergenceWarning)\n",
      "  Searching for regularisation parameter C: 100%|██████████| 20/20 [00:00<00:00, 41.02it/s]\n"
     ]
    },
    {
     "name": "stdout",
     "output_type": "stream",
     "text": [
      "  Best C: 428.13323987193957\n",
      "  Loaded feature set character_ngram_1\n",
      " Making the estimator\n"
     ]
    },
    {
     "name": "stderr",
     "output_type": "stream",
     "text": [
      "  Searching for regularisation parameter C: 100%|██████████| 20/20 [00:02<00:00,  7.62it/s]"
     ]
    },
    {
     "name": "stdout",
     "output_type": "stream",
     "text": [
      "  Best C: 0.0012742749857031347\n",
      "  Loaded feature set character_ngram_2\n",
      "   Reducing feature space\n",
      " Making the estimator\n"
     ]
    },
    {
     "name": "stderr",
     "output_type": "stream",
     "text": [
      "\n",
      "  Searching for regularisation parameter C: 100%|██████████| 20/20 [00:00<00:00, 49.55it/s]\n"
     ]
    },
    {
     "name": "stdout",
     "output_type": "stream",
     "text": [
      "  Best C: 0.0012742749857031347\n",
      "  Loaded feature set character_ngram_3\n",
      "   Reducing feature space\n",
      " Making the estimator\n"
     ]
    },
    {
     "name": "stderr",
     "output_type": "stream",
     "text": [
      "  Searching for regularisation parameter C: 100%|██████████| 20/20 [00:00<00:00, 75.79it/s] \n"
     ]
    },
    {
     "name": "stdout",
     "output_type": "stream",
     "text": [
      "  Best C: 0.0012742749857031347\n",
      "  Loaded feature set word_ngram_1\n",
      "   Reducing feature space\n",
      " Making the estimator\n"
     ]
    },
    {
     "name": "stderr",
     "output_type": "stream",
     "text": [
      "  Searching for regularisation parameter C:  65%|██████▌   | 13/20 [00:00<00:00, 125.56it/s]/home/fredrik/anaconda3/lib/python3.7/site-packages/sklearn/svm/_base.py:977: ConvergenceWarning: Liblinear failed to converge, increase the number of iterations.\n",
      "  \"the number of iterations.\", ConvergenceWarning)\n",
      "  Searching for regularisation parameter C: 100%|██████████| 20/20 [00:00<00:00, 33.57it/s] \n"
     ]
    },
    {
     "name": "stdout",
     "output_type": "stream",
     "text": [
      "  Best C: 0.007847599703514624\n",
      "  Loaded feature set word_ngram_2\n",
      "   Reducing feature space\n",
      " Making the estimator\n"
     ]
    },
    {
     "name": "stderr",
     "output_type": "stream",
     "text": [
      "  Searching for regularisation parameter C:   0%|          | 0/20 [00:00<?, ?it/s]/home/fredrik/anaconda3/lib/python3.7/site-packages/sklearn/svm/_base.py:977: ConvergenceWarning: Liblinear failed to converge, increase the number of iterations.\n",
      "  \"the number of iterations.\", ConvergenceWarning)\n",
      "  Searching for regularisation parameter C: 100%|██████████| 20/20 [00:00<00:00, 38.20it/s] \n"
     ]
    },
    {
     "name": "stdout",
     "output_type": "stream",
     "text": [
      "  Best C: 11.288378916846883\n",
      "  Loaded feature set word_ngram_3\n",
      "   Reducing feature space\n",
      " Making the estimator\n"
     ]
    },
    {
     "name": "stderr",
     "output_type": "stream",
     "text": [
      "  Searching for regularisation parameter C:   0%|          | 0/20 [00:00<?, ?it/s]/home/fredrik/anaconda3/lib/python3.7/site-packages/sklearn/svm/_base.py:977: ConvergenceWarning: Liblinear failed to converge, increase the number of iterations.\n",
      "  \"the number of iterations.\", ConvergenceWarning)\n",
      "  Searching for regularisation parameter C: 100%|██████████| 20/20 [00:00<00:00, 30.02it/s]"
     ]
    },
    {
     "name": "stdout",
     "output_type": "stream",
     "text": [
      "  Best C: 0.04832930238571752\n",
      "\n",
      " Results\n",
      "  bow_words, 19.7%\n",
      "  unique predicted classes: [1300]\n",
      "  tfidf_words, 22.5%\n",
      "  unique predicted classes: [1250 1275 1300 1325 1350 1375 1400]\n",
      "  character_ngram_1, 47.9%\n",
      "  unique predicted classes: [1250 1275 1300 1325 1350 1375 1400 1425 1475]\n",
      "  character_ngram_2, 47.9%\n",
      "  unique predicted classes: [1250 1275 1300 1325 1350 1375 1400 1425 1450 1500 1525]\n",
      "  character_ngram_3, 39.4%\n",
      "  unique predicted classes: [1250 1275 1300 1325 1350 1375 1400 1425]\n",
      "  word_ngram_1, 32.4%\n",
      "  unique predicted classes: [1250 1275 1300 1325 1350 1375 1400]\n",
      "  word_ngram_2, 18.3%\n",
      "  unique predicted classes: [1250 1275 1300 1325 1350 1375 1400]\n",
      "  word_ngram_3, 22.5%\n",
      "  unique predicted classes: [1275 1300 1325 1350 1425]\n",
      " Controls\n",
      "  MLE choice: 19.3%\n",
      "  Uniform: 8.3%\n",
      "  Weighted: 14.5%\n",
      "Loading StClare_facs_danish.npz... done (0.0s)\n",
      " Classes in data: [1400 1425 1450 1475 1500 1525 1550 1575]\n",
      " Running estimations\n",
      "  Loaded feature set bow_words\n",
      "   Reducing feature space\n",
      " Making the estimator\n"
     ]
    },
    {
     "name": "stderr",
     "output_type": "stream",
     "text": [
      "\n",
      "  Searching for regularisation parameter C:   0%|          | 0/20 [00:00<?, ?it/s]/home/fredrik/anaconda3/lib/python3.7/site-packages/sklearn/svm/_base.py:977: ConvergenceWarning: Liblinear failed to converge, increase the number of iterations.\n",
      "  \"the number of iterations.\", ConvergenceWarning)\n",
      "  Searching for regularisation parameter C: 100%|██████████| 20/20 [00:00<00:00, 92.20it/s] "
     ]
    },
    {
     "name": "stdout",
     "output_type": "stream",
     "text": [
      "  Best C: 1e-10\n",
      "  Loaded feature set tfidf_words\n",
      "   Reducing feature space\n",
      " Making the estimator\n"
     ]
    },
    {
     "name": "stderr",
     "output_type": "stream",
     "text": [
      "\n",
      "  Searching for regularisation parameter C: 100%|██████████| 20/20 [00:00<00:00, 737.56it/s]\n"
     ]
    },
    {
     "name": "stdout",
     "output_type": "stream",
     "text": [
      "  Best C: 0.007847599703514624\n",
      "  Loaded feature set character_ngram_1\n",
      " Making the estimator\n"
     ]
    },
    {
     "name": "stderr",
     "output_type": "stream",
     "text": [
      "  Searching for regularisation parameter C: 100%|██████████| 20/20 [00:00<00:00, 534.89it/s]"
     ]
    },
    {
     "name": "stdout",
     "output_type": "stream",
     "text": [
      "  Best C: 0.2976351441631313\n",
      "  Loaded feature set character_ngram_2\n",
      "   Reducing feature space\n",
      " Making the estimator\n"
     ]
    },
    {
     "name": "stderr",
     "output_type": "stream",
     "text": [
      "\n",
      "  Searching for regularisation parameter C: 100%|██████████| 20/20 [00:00<00:00, 311.27it/s]"
     ]
    },
    {
     "name": "stdout",
     "output_type": "stream",
     "text": [
      "  Best C: 3.359818286283781e-05\n",
      "  Loaded feature set character_ngram_3\n",
      "   Reducing feature space\n",
      " Making the estimator\n"
     ]
    },
    {
     "name": "stderr",
     "output_type": "stream",
     "text": [
      "\n",
      "  Searching for regularisation parameter C: 100%|██████████| 20/20 [00:00<00:00, 402.66it/s]\n"
     ]
    },
    {
     "name": "stdout",
     "output_type": "stream",
     "text": [
      "  Best C: 1e-10\n",
      "  Loaded feature set word_ngram_1\n",
      "   Reducing feature space\n",
      " Making the estimator\n"
     ]
    },
    {
     "name": "stderr",
     "output_type": "stream",
     "text": [
      "  Searching for regularisation parameter C: 100%|██████████| 20/20 [00:00<00:00, 358.54it/s]\n"
     ]
    },
    {
     "name": "stdout",
     "output_type": "stream",
     "text": [
      "  Best C: 1e-10\n",
      "  Loaded feature set word_ngram_2\n",
      "   Reducing feature space\n",
      " Making the estimator\n"
     ]
    },
    {
     "name": "stderr",
     "output_type": "stream",
     "text": [
      "  Searching for regularisation parameter C:   0%|          | 0/20 [00:00<?, ?it/s]/home/fredrik/anaconda3/lib/python3.7/site-packages/sklearn/svm/_base.py:977: ConvergenceWarning: Liblinear failed to converge, increase the number of iterations.\n",
      "  \"the number of iterations.\", ConvergenceWarning)\n",
      "  Searching for regularisation parameter C: 100%|██████████| 20/20 [00:00<00:00, 124.36it/s]"
     ]
    },
    {
     "name": "stdout",
     "output_type": "stream",
     "text": [
      "  Best C: 0.007847599703514624\n",
      "  Loaded feature set word_ngram_3\n",
      "   Reducing feature space\n"
     ]
    },
    {
     "name": "stderr",
     "output_type": "stream",
     "text": [
      "\n"
     ]
    },
    {
     "name": "stdout",
     "output_type": "stream",
     "text": [
      " Making the estimator\n"
     ]
    },
    {
     "name": "stderr",
     "output_type": "stream",
     "text": [
      "  Searching for regularisation parameter C:   0%|          | 0/20 [00:00<?, ?it/s]/home/fredrik/anaconda3/lib/python3.7/site-packages/sklearn/svm/_base.py:977: ConvergenceWarning: Liblinear failed to converge, increase the number of iterations.\n",
      "  \"the number of iterations.\", ConvergenceWarning)\n",
      "  Searching for regularisation parameter C: 100%|██████████| 20/20 [00:00<00:00, 86.47it/s] \n"
     ]
    },
    {
     "name": "stdout",
     "output_type": "stream",
     "text": [
      "  Best C: 0.0012742749857031347\n",
      "\n",
      " Results\n",
      "  bow_words, 15.8%\n",
      "  unique predicted classes: [1425]\n",
      "  tfidf_words, 5.3%\n",
      "  unique predicted classes: [1400 1425 1450 1475 1500 1525 1575]\n",
      "  character_ngram_1, 42.1%\n",
      "  unique predicted classes: [1400 1450 1475 1500 1525 1550]\n",
      "  character_ngram_2, 31.6%\n",
      "  unique predicted classes: [1400 1425 1450 1475 1500 1525 1550 1575]\n",
      "  character_ngram_3, 10.5%\n",
      "  unique predicted classes: [1400 1425 1450 1475 1500 1525 1575]\n",
      "  word_ngram_1, 5.3%\n",
      "  unique predicted classes: [1400 1425 1450 1475 1500 1525 1550 1575]\n",
      "  word_ngram_2, 10.5%\n",
      "  unique predicted classes: [1400 1425 1450 1475 1525]\n",
      "  word_ngram_3, 21.1%\n",
      "  unique predicted classes: [1425 1450 1475]\n",
      " Controls\n",
      "  MLE choice: 17.3%\n",
      "  Uniform: 12.3%\n",
      "  Weighted: 14.1%\n",
      "Loading velux_facs_latin.npz... done (0.1s)\n",
      " Classes in data: [1250 1275 1300 1325 1350 1375 1400 1425 1450 1475 1500 1525]\n",
      " Running estimations\n",
      "  Loaded feature set bow_words\n",
      "   Reducing feature space\n",
      " Making the estimator\n"
     ]
    },
    {
     "name": "stderr",
     "output_type": "stream",
     "text": [
      "  Searching for regularisation parameter C:   0%|          | 0/20 [00:00<?, ?it/s]/home/fredrik/anaconda3/lib/python3.7/site-packages/sklearn/svm/_base.py:977: ConvergenceWarning: Liblinear failed to converge, increase the number of iterations.\n",
      "  \"the number of iterations.\", ConvergenceWarning)\n",
      "  Searching for regularisation parameter C: 100%|██████████| 20/20 [00:00<00:00, 38.43it/s]"
     ]
    },
    {
     "name": "stdout",
     "output_type": "stream",
     "text": [
      "  Best C: 6.158482110660255e-10\n",
      "  Loaded feature set tfidf_words\n",
      "   Reducing feature space\n",
      " Making the estimator\n"
     ]
    },
    {
     "name": "stderr",
     "output_type": "stream",
     "text": [
      "\n",
      "  Searching for regularisation parameter C:   0%|          | 0/20 [00:00<?, ?it/s]/home/fredrik/anaconda3/lib/python3.7/site-packages/sklearn/svm/_base.py:977: ConvergenceWarning: Liblinear failed to converge, increase the number of iterations.\n",
      "  \"the number of iterations.\", ConvergenceWarning)\n",
      "  Searching for regularisation parameter C: 100%|██████████| 20/20 [00:00<00:00, 42.28it/s] "
     ]
    },
    {
     "name": "stdout",
     "output_type": "stream",
     "text": [
      "  Best C: 0.2976351441631313\n",
      "  Loaded feature set character_ngram_1\n",
      " Making the estimator\n"
     ]
    },
    {
     "name": "stderr",
     "output_type": "stream",
     "text": [
      "\n",
      "  Searching for regularisation parameter C: 100%|██████████| 20/20 [00:02<00:00,  8.03it/s] "
     ]
    },
    {
     "name": "stdout",
     "output_type": "stream",
     "text": [
      "  Best C: 0.0012742749857031347\n",
      "  Loaded feature set character_ngram_2\n",
      "   Reducing feature space\n",
      " Making the estimator\n"
     ]
    },
    {
     "name": "stderr",
     "output_type": "stream",
     "text": [
      "\n",
      "  Searching for regularisation parameter C: 100%|██████████| 20/20 [00:00<00:00, 40.18it/s]\n"
     ]
    },
    {
     "name": "stdout",
     "output_type": "stream",
     "text": [
      "  Best C: 0.007847599703514624\n",
      "  Loaded feature set character_ngram_3\n",
      "   Reducing feature space\n",
      " Making the estimator\n"
     ]
    },
    {
     "name": "stderr",
     "output_type": "stream",
     "text": [
      "  Searching for regularisation parameter C: 100%|██████████| 20/20 [00:00<00:00, 72.55it/s] \n"
     ]
    },
    {
     "name": "stdout",
     "output_type": "stream",
     "text": [
      "  Best C: 0.0012742749857031347\n",
      "  Loaded feature set word_ngram_1\n",
      "   Reducing feature space\n",
      " Making the estimator\n"
     ]
    },
    {
     "name": "stderr",
     "output_type": "stream",
     "text": [
      "  Searching for regularisation parameter C:   0%|          | 0/20 [00:00<?, ?it/s]/home/fredrik/anaconda3/lib/python3.7/site-packages/sklearn/svm/_base.py:977: ConvergenceWarning: Liblinear failed to converge, increase the number of iterations.\n",
      "  \"the number of iterations.\", ConvergenceWarning)\n",
      "  Searching for regularisation parameter C: 100%|██████████| 20/20 [00:00<00:00, 39.22it/s] \n"
     ]
    },
    {
     "name": "stdout",
     "output_type": "stream",
     "text": [
      "  Best C: 0.007847599703514624\n",
      "  Loaded feature set word_ngram_2\n",
      "   Reducing feature space\n",
      " Making the estimator\n"
     ]
    },
    {
     "name": "stderr",
     "output_type": "stream",
     "text": [
      "  Searching for regularisation parameter C:   0%|          | 0/20 [00:00<?, ?it/s]/home/fredrik/anaconda3/lib/python3.7/site-packages/sklearn/svm/_base.py:977: ConvergenceWarning: Liblinear failed to converge, increase the number of iterations.\n",
      "  \"the number of iterations.\", ConvergenceWarning)\n",
      "  Searching for regularisation parameter C: 100%|██████████| 20/20 [00:00<00:00, 32.10it/s]\n"
     ]
    },
    {
     "name": "stdout",
     "output_type": "stream",
     "text": [
      "  Best C: 11.288378916846883\n",
      "  Loaded feature set word_ngram_3\n",
      "   Reducing feature space\n",
      " Making the estimator\n"
     ]
    },
    {
     "name": "stderr",
     "output_type": "stream",
     "text": [
      "  Searching for regularisation parameter C:   0%|          | 0/20 [00:00<?, ?it/s]/home/fredrik/anaconda3/lib/python3.7/site-packages/sklearn/svm/_base.py:977: ConvergenceWarning: Liblinear failed to converge, increase the number of iterations.\n",
      "  \"the number of iterations.\", ConvergenceWarning)\n",
      "  Searching for regularisation parameter C: 100%|██████████| 20/20 [00:00<00:00, 34.94it/s]\n"
     ]
    },
    {
     "name": "stdout",
     "output_type": "stream",
     "text": [
      "  Best C: 0.04832930238571752\n",
      "\n",
      " Results\n",
      "  bow_words, 19.7%\n",
      "  unique predicted classes: [1300]\n",
      "  tfidf_words, 23.9%\n",
      "  unique predicted classes: [1250 1275 1300 1325 1350 1375 1400]\n",
      "  character_ngram_1, 50.7%\n",
      "  unique predicted classes: [1250 1275 1300 1325 1350 1375 1400 1425 1475]\n",
      "  character_ngram_2, 50.7%\n",
      "  unique predicted classes: [1250 1275 1300 1325 1350 1375 1400 1450 1500 1525]\n",
      "  character_ngram_3, 42.3%\n",
      "  unique predicted classes: [1250 1275 1300 1325 1350 1375 1400 1425]\n",
      "  word_ngram_1, 31.0%\n",
      "  unique predicted classes: [1250 1275 1300 1325 1350 1375 1400]\n",
      "  word_ngram_2, 16.9%\n",
      "  unique predicted classes: [1250 1275 1300 1325 1350 1375 1400]\n",
      "  word_ngram_3, 22.5%\n",
      "  unique predicted classes: [1275 1300 1325 1350 1425]\n",
      " Controls\n",
      "  MLE choice: 19.3%\n",
      "  Uniform: 8.4%\n",
      "  Weighted: 14.7%\n",
      "Loading Colonia.npz... done (6.5s)\n",
      " Classes in data: [1500 1525 1550 1575 1600 1625 1650 1675 1700 1725 1750 1775 1800 1825\n",
      " 1850 1875 1900 1925]\n",
      " Running estimations\n",
      "  Loaded feature set bow_words\n",
      "   Reducing feature space\n",
      " Making the estimator\n"
     ]
    },
    {
     "name": "stderr",
     "output_type": "stream",
     "text": [
      "  Searching for regularisation parameter C:   0%|          | 0/20 [00:00<?, ?it/s]/home/fredrik/anaconda3/lib/python3.7/site-packages/sklearn/svm/_base.py:977: ConvergenceWarning: Liblinear failed to converge, increase the number of iterations.\n",
      "  \"the number of iterations.\", ConvergenceWarning)\n",
      "  Searching for regularisation parameter C: 100%|██████████| 20/20 [00:00<00:00, 67.88it/s] \n"
     ]
    },
    {
     "name": "stdout",
     "output_type": "stream",
     "text": [
      "  Best C: 1e-10\n",
      "  Loaded feature set bow_pos\n",
      " Making the estimator\n"
     ]
    },
    {
     "name": "stderr",
     "output_type": "stream",
     "text": [
      "  Searching for regularisation parameter C: 100%|██████████| 20/20 [00:00<00:00, 947.06it/s]"
     ]
    },
    {
     "name": "stdout",
     "output_type": "stream",
     "text": [
      "  Best C: 1e-10\n",
      "  Loaded feature set bow_words_pos\n",
      "   Reducing feature space\n",
      " Making the estimator\n"
     ]
    },
    {
     "name": "stderr",
     "output_type": "stream",
     "text": [
      "\n",
      "  Searching for regularisation parameter C:   0%|          | 0/20 [00:00<?, ?it/s]/home/fredrik/anaconda3/lib/python3.7/site-packages/sklearn/svm/_base.py:977: ConvergenceWarning: Liblinear failed to converge, increase the number of iterations.\n",
      "  \"the number of iterations.\", ConvergenceWarning)\n",
      "  Searching for regularisation parameter C: 100%|██████████| 20/20 [00:00<00:00, 66.61it/s] \n"
     ]
    },
    {
     "name": "stdout",
     "output_type": "stream",
     "text": [
      "  Best C: 1e-10\n",
      "  Loaded feature set tfidf_words\n",
      "   Reducing feature space\n",
      " Making the estimator\n"
     ]
    },
    {
     "name": "stderr",
     "output_type": "stream",
     "text": [
      "  Searching for regularisation parameter C:  60%|██████    | 12/20 [00:00<00:00, 98.71it/s]/home/fredrik/anaconda3/lib/python3.7/site-packages/sklearn/svm/_base.py:977: ConvergenceWarning: Liblinear failed to converge, increase the number of iterations.\n",
      "  \"the number of iterations.\", ConvergenceWarning)\n",
      "  Searching for regularisation parameter C: 100%|██████████| 20/20 [00:00<00:00, 42.92it/s]"
     ]
    },
    {
     "name": "stdout",
     "output_type": "stream",
     "text": [
      "  Best C: 0.0012742749857031347\n",
      "  Loaded feature set tfidf_pos\n",
      " Making the estimator\n"
     ]
    },
    {
     "name": "stderr",
     "output_type": "stream",
     "text": [
      "\n",
      "  Searching for regularisation parameter C: 100%|██████████| 20/20 [00:00<00:00, 135.94it/s]\n"
     ]
    },
    {
     "name": "stdout",
     "output_type": "stream",
     "text": [
      "  Best C: 0.2976351441631313\n",
      "  Loaded feature set tfidf_words_pos\n",
      "   Reducing feature space\n",
      " Making the estimator\n"
     ]
    },
    {
     "name": "stderr",
     "output_type": "stream",
     "text": [
      "  Searching for regularisation parameter C:   0%|          | 0/20 [00:00<?, ?it/s]/home/fredrik/anaconda3/lib/python3.7/site-packages/sklearn/svm/_base.py:977: ConvergenceWarning: Liblinear failed to converge, increase the number of iterations.\n",
      "  \"the number of iterations.\", ConvergenceWarning)\n",
      "  Searching for regularisation parameter C: 100%|██████████| 20/20 [00:00<00:00, 52.17it/s]"
     ]
    },
    {
     "name": "stdout",
     "output_type": "stream",
     "text": [
      "  Best C: 1e-10\n",
      "  Loaded feature set character_ngram_1\n",
      " Making the estimator\n"
     ]
    },
    {
     "name": "stderr",
     "output_type": "stream",
     "text": [
      "\n",
      "  Searching for regularisation parameter C: 100%|██████████| 20/20 [00:00<00:00, 138.18it/s]"
     ]
    },
    {
     "name": "stdout",
     "output_type": "stream",
     "text": [
      "  Best C: 0.00020691380811147902\n",
      "  Loaded feature set character_ngram_2\n",
      "   Reducing feature space\n",
      " Making the estimator\n"
     ]
    },
    {
     "name": "stderr",
     "output_type": "stream",
     "text": [
      "\n",
      "  Searching for regularisation parameter C:  55%|█████▌    | 11/20 [00:00<00:00, 100.79it/s]/home/fredrik/anaconda3/lib/python3.7/site-packages/sklearn/svm/_base.py:977: ConvergenceWarning: Liblinear failed to converge, increase the number of iterations.\n",
      "  \"the number of iterations.\", ConvergenceWarning)\n",
      "  Searching for regularisation parameter C: 100%|██████████| 20/20 [00:01<00:00, 11.68it/s] \n"
     ]
    },
    {
     "name": "stdout",
     "output_type": "stream",
     "text": [
      "  Best C: 0.007847599703514624\n",
      "  Loaded feature set character_ngram_3\n",
      "   Reducing feature space\n",
      " Making the estimator\n"
     ]
    },
    {
     "name": "stderr",
     "output_type": "stream",
     "text": [
      "  Searching for regularisation parameter C:  55%|█████▌    | 11/20 [00:00<00:00, 69.72it/s]/home/fredrik/anaconda3/lib/python3.7/site-packages/sklearn/svm/_base.py:977: ConvergenceWarning: Liblinear failed to converge, increase the number of iterations.\n",
      "  \"the number of iterations.\", ConvergenceWarning)\n",
      "  Searching for regularisation parameter C: 100%|██████████| 20/20 [00:01<00:00, 10.44it/s]\n"
     ]
    },
    {
     "name": "stdout",
     "output_type": "stream",
     "text": [
      "  Best C: 0.00020691380811147902\n",
      "  Loaded feature set word_ngram_1\n",
      "   Reducing feature space\n",
      " Making the estimator\n"
     ]
    },
    {
     "name": "stderr",
     "output_type": "stream",
     "text": [
      "  Searching for regularisation parameter C:  60%|██████    | 12/20 [00:00<00:00, 51.70it/s]/home/fredrik/anaconda3/lib/python3.7/site-packages/sklearn/svm/_base.py:977: ConvergenceWarning: Liblinear failed to converge, increase the number of iterations.\n",
      "  \"the number of iterations.\", ConvergenceWarning)\n",
      "  Searching for regularisation parameter C: 100%|██████████| 20/20 [00:01<00:00, 19.84it/s]\n"
     ]
    },
    {
     "name": "stdout",
     "output_type": "stream",
     "text": [
      "  Best C: 0.00020691380811147902\n",
      "  Loaded feature set word_ngram_2\n",
      "   Reducing feature space\n",
      " Making the estimator\n"
     ]
    },
    {
     "name": "stderr",
     "output_type": "stream",
     "text": [
      "  Searching for regularisation parameter C:  65%|██████▌   | 13/20 [00:00<00:00, 64.16it/s]/home/fredrik/anaconda3/lib/python3.7/site-packages/sklearn/svm/_base.py:977: ConvergenceWarning: Liblinear failed to converge, increase the number of iterations.\n",
      "  \"the number of iterations.\", ConvergenceWarning)\n",
      "  Searching for regularisation parameter C: 100%|██████████| 20/20 [00:00<00:00, 43.46it/s]\n"
     ]
    },
    {
     "name": "stdout",
     "output_type": "stream",
     "text": [
      "  Best C: 0.0012742749857031347\n",
      "  Loaded feature set word_ngram_3\n",
      "   Reducing feature space\n",
      " Making the estimator\n"
     ]
    },
    {
     "name": "stderr",
     "output_type": "stream",
     "text": [
      "  Searching for regularisation parameter C:   0%|          | 0/20 [00:00<?, ?it/s]/home/fredrik/anaconda3/lib/python3.7/site-packages/sklearn/svm/_base.py:977: ConvergenceWarning: Liblinear failed to converge, increase the number of iterations.\n",
      "  \"the number of iterations.\", ConvergenceWarning)\n",
      "  Searching for regularisation parameter C: 100%|██████████| 20/20 [00:00<00:00, 142.54it/s]"
     ]
    },
    {
     "name": "stdout",
     "output_type": "stream",
     "text": [
      "  Best C: 1e-10\n",
      "\n",
      " Results\n",
      "  bow_words, 26.3%\n",
      "  unique predicted classes: [1875]\n",
      "  bow_pos, 26.3%\n",
      "  unique predicted classes: [1875]\n",
      "  bow_words_pos, 26.3%\n",
      "  unique predicted classes: [1875]\n",
      "  tfidf_words, 47.4%\n",
      "  unique predicted classes: [1500 1525 1600 1625 1650 1675 1725 1775 1850 1875 1925]\n",
      "  tfidf_pos, 42.1%\n",
      "  unique predicted classes: [1500 1525 1550 1575 1600 1625 1650 1675 1725 1825 1850 1875 1900]\n",
      "  tfidf_words_pos, 42.1%\n",
      "  unique predicted classes: [1525 1575 1625 1650 1675 1725 1875]\n",
      "  character_ngram_1, 31.6%\n",
      "  unique predicted classes: [1500 1525 1550 1625 1675 1725 1750 1875 1900]\n",
      "  character_ngram_2, 47.4%\n",
      "  unique predicted classes: [1525 1600 1625 1650 1675 1725 1825 1850 1875 1925]\n",
      "  character_ngram_3, 42.1%\n",
      "  unique predicted classes: [1525 1550 1625 1650 1675 1725 1775 1875]\n",
      "  word_ngram_1, 42.1%\n",
      "  unique predicted classes: [1500 1525 1625 1650 1675 1725 1775 1875]\n",
      "  word_ngram_2, 36.8%\n",
      "  unique predicted classes: [1500 1525 1625 1675 1725 1775 1875 1900]\n",
      "  word_ngram_3, 31.6%\n",
      "  unique predicted classes: [1525 1600 1625 1675 1725 1775 1875 1900]\n",
      " Controls\n",
      "  MLE choice: 25.3%\n",
      "  Uniform: 5.6%\n",
      "  Weighted: 12.2%\n",
      "Loading SDHK_Swedish.npz... "
     ]
    },
    {
     "name": "stderr",
     "output_type": "stream",
     "text": [
      "\n"
     ]
    },
    {
     "name": "stdout",
     "output_type": "stream",
     "text": [
      "done (0.6s)\n",
      " Classes in data: [1150 1200 1225 1250 1275 1300 1325 1350 1375 1400 1425 1450 1475 1500]\n",
      " Running estimations\n",
      "  Loaded feature set bow_words\n",
      "   Reducing feature space\n",
      " Making the estimator\n"
     ]
    },
    {
     "name": "stderr",
     "output_type": "stream",
     "text": [
      "  Searching for regularisation parameter C: 100%|██████████| 20/20 [00:00<00:00, 260.83it/s]"
     ]
    },
    {
     "name": "stdout",
     "output_type": "stream",
     "text": [
      "  Best C: 1e-10\n",
      "  Loaded feature set tfidf_words\n",
      "   Reducing feature space\n",
      " Making the estimator\n"
     ]
    },
    {
     "name": "stderr",
     "output_type": "stream",
     "text": [
      "\n",
      "  Searching for regularisation parameter C:  45%|████▌     | 9/20 [00:00<00:00, 85.07it/s]/home/fredrik/anaconda3/lib/python3.7/site-packages/sklearn/svm/_base.py:977: ConvergenceWarning: Liblinear failed to converge, increase the number of iterations.\n",
      "  \"the number of iterations.\", ConvergenceWarning)\n",
      "  Searching for regularisation parameter C: 100%|██████████| 20/20 [00:10<00:00,  1.98it/s]"
     ]
    },
    {
     "name": "stdout",
     "output_type": "stream",
     "text": [
      "  Best C: 0.00020691380811147902\n",
      "  Loaded feature set character_ngram_1\n",
      " Making the estimator\n"
     ]
    },
    {
     "name": "stderr",
     "output_type": "stream",
     "text": [
      "\n",
      "  Searching for regularisation parameter C: 100%|██████████| 20/20 [00:14<00:00,  1.34it/s]\n"
     ]
    },
    {
     "name": "stdout",
     "output_type": "stream",
     "text": [
      "  Best C: 0.2976351441631313\n",
      "  Loaded feature set character_ngram_2\n",
      "   Reducing feature space\n",
      " Making the estimator\n"
     ]
    },
    {
     "name": "stderr",
     "output_type": "stream",
     "text": [
      "  Searching for regularisation parameter C:  55%|█████▌    | 11/20 [00:11<00:26,  2.95s/it]/home/fredrik/anaconda3/lib/python3.7/site-packages/sklearn/svm/_base.py:977: ConvergenceWarning: Liblinear failed to converge, increase the number of iterations.\n",
      "  \"the number of iterations.\", ConvergenceWarning)\n",
      "  Searching for regularisation parameter C: 100%|██████████| 20/20 [02:16<00:00,  6.82s/it]\n"
     ]
    },
    {
     "name": "stdout",
     "output_type": "stream",
     "text": [
      "  Best C: 0.0012742749857031347\n",
      "  Loaded feature set character_ngram_3\n",
      "   Reducing feature space\n",
      " Making the estimator\n"
     ]
    },
    {
     "name": "stderr",
     "output_type": "stream",
     "text": [
      "  Searching for regularisation parameter C:  55%|█████▌    | 11/20 [00:09<00:22,  2.51s/it]/home/fredrik/anaconda3/lib/python3.7/site-packages/sklearn/svm/_base.py:977: ConvergenceWarning: Liblinear failed to converge, increase the number of iterations.\n",
      "  \"the number of iterations.\", ConvergenceWarning)\n",
      "  Searching for regularisation parameter C: 100%|██████████| 20/20 [01:06<00:00,  3.31s/it]\n"
     ]
    },
    {
     "name": "stdout",
     "output_type": "stream",
     "text": [
      "  Best C: 0.0012742749857031347\n",
      "  Loaded feature set word_ngram_1\n",
      "   Reducing feature space\n",
      " Making the estimator\n"
     ]
    },
    {
     "name": "stderr",
     "output_type": "stream",
     "text": [
      "  Searching for regularisation parameter C:  40%|████      | 8/20 [00:00<00:00, 67.01it/s]/home/fredrik/anaconda3/lib/python3.7/site-packages/sklearn/svm/_base.py:977: ConvergenceWarning: Liblinear failed to converge, increase the number of iterations.\n",
      "  \"the number of iterations.\", ConvergenceWarning)\n",
      "  Searching for regularisation parameter C: 100%|██████████| 20/20 [00:14<00:00,  1.39it/s]\n"
     ]
    },
    {
     "name": "stdout",
     "output_type": "stream",
     "text": [
      "  Best C: 0.00020691380811147902\n",
      "  Loaded feature set word_ngram_2\n",
      "   Reducing feature space\n",
      " Making the estimator\n"
     ]
    },
    {
     "name": "stderr",
     "output_type": "stream",
     "text": [
      "  Searching for regularisation parameter C:  50%|█████     | 10/20 [00:00<00:00, 97.33it/s]/home/fredrik/anaconda3/lib/python3.7/site-packages/sklearn/svm/_base.py:977: ConvergenceWarning: Liblinear failed to converge, increase the number of iterations.\n",
      "  \"the number of iterations.\", ConvergenceWarning)\n",
      "  Searching for regularisation parameter C: 100%|██████████| 20/20 [00:04<00:00,  4.41it/s]\n"
     ]
    },
    {
     "name": "stdout",
     "output_type": "stream",
     "text": [
      "  Best C: 3.359818286283781e-05\n",
      "  Loaded feature set word_ngram_3\n",
      "   Reducing feature space\n",
      " Making the estimator\n"
     ]
    },
    {
     "name": "stderr",
     "output_type": "stream",
     "text": [
      "  Searching for regularisation parameter C:  55%|█████▌    | 11/20 [00:00<00:00, 105.22it/s]/home/fredrik/anaconda3/lib/python3.7/site-packages/sklearn/svm/_base.py:977: ConvergenceWarning: Liblinear failed to converge, increase the number of iterations.\n",
      "  \"the number of iterations.\", ConvergenceWarning)\n",
      "  Searching for regularisation parameter C: 100%|██████████| 20/20 [00:02<00:00,  9.21it/s] \n"
     ]
    },
    {
     "name": "stdout",
     "output_type": "stream",
     "text": [
      "  Best C: 0.00020691380811147902\n",
      "\n",
      " Results\n",
      "  bow_words, 69.0%\n",
      "  unique predicted classes: [1400]\n",
      "  tfidf_words, 66.9%\n",
      "  unique predicted classes: [1275 1325 1350 1375 1400]\n",
      "  character_ngram_1, 82.5%\n",
      "  unique predicted classes: [1150 1200 1275 1300 1325 1350 1375 1400 1425 1450 1500]\n",
      "  character_ngram_2, 90.3%\n",
      "  unique predicted classes: [1200 1225 1275 1300 1325 1350 1375 1400 1475]\n",
      "  character_ngram_3, 89.0%\n",
      "  unique predicted classes: [1275 1300 1325 1350 1375 1400]\n",
      "  word_ngram_1, 79.3%\n",
      "  unique predicted classes: [1275 1325 1350 1375 1400 1425]\n",
      "  word_ngram_2, 69.9%\n",
      "  unique predicted classes: [1300 1350 1375 1400 1475]\n",
      "  word_ngram_3, 69.4%\n",
      "  unique predicted classes: [1375 1400]\n",
      " Controls\n",
      "  MLE choice: 69.2%\n",
      "  Uniform: 7.1%\n",
      "  Weighted: 54.3%\n",
      "Loading SemEval2015.npz... done (0.2s)\n",
      " Classes in data: [1700 1725 1775 1800 1825 1850 1875 1900 1925 1950 1975 2000]\n",
      " Running estimations\n",
      "  Loaded feature set bow_words\n",
      "   Reducing feature space\n",
      " Making the estimator\n"
     ]
    },
    {
     "name": "stderr",
     "output_type": "stream",
     "text": [
      "  Searching for regularisation parameter C: 100%|██████████| 20/20 [00:00<00:00, 176.59it/s]"
     ]
    },
    {
     "name": "stdout",
     "output_type": "stream",
     "text": [
      "  Best C: 1e-10\n",
      "  Loaded feature set tfidf_words\n",
      "   Reducing feature space\n",
      " Making the estimator\n"
     ]
    },
    {
     "name": "stderr",
     "output_type": "stream",
     "text": [
      "\n",
      "  Searching for regularisation parameter C:  50%|█████     | 10/20 [00:00<00:00, 79.76it/s]/home/fredrik/anaconda3/lib/python3.7/site-packages/sklearn/svm/_base.py:977: ConvergenceWarning: Liblinear failed to converge, increase the number of iterations.\n",
      "  \"the number of iterations.\", ConvergenceWarning)\n",
      "  Searching for regularisation parameter C: 100%|██████████| 20/20 [00:14<00:00,  1.42it/s]"
     ]
    },
    {
     "name": "stdout",
     "output_type": "stream",
     "text": [
      "  Best C: 5.455594781168514e-06\n",
      "  Loaded feature set character_ngram_1\n",
      " Making the estimator\n"
     ]
    },
    {
     "name": "stderr",
     "output_type": "stream",
     "text": [
      "\n",
      "  Searching for regularisation parameter C: 100%|██████████| 20/20 [00:36<00:00,  1.85s/it]"
     ]
    },
    {
     "name": "stdout",
     "output_type": "stream",
     "text": [
      "  Best C: 0.00020691380811147902\n",
      "  Loaded feature set character_ngram_2\n",
      "   Reducing feature space\n",
      " Making the estimator\n"
     ]
    },
    {
     "name": "stderr",
     "output_type": "stream",
     "text": [
      "\n",
      "  Searching for regularisation parameter C:  55%|█████▌    | 11/20 [00:04<00:08,  1.12it/s]/home/fredrik/anaconda3/lib/python3.7/site-packages/sklearn/svm/_base.py:977: ConvergenceWarning: Liblinear failed to converge, increase the number of iterations.\n",
      "  \"the number of iterations.\", ConvergenceWarning)\n",
      "  Searching for regularisation parameter C: 100%|██████████| 20/20 [01:37<00:00,  4.86s/it]\n"
     ]
    },
    {
     "name": "stdout",
     "output_type": "stream",
     "text": [
      "  Best C: 3.359818286283781e-05\n",
      "  Loaded feature set character_ngram_3\n",
      "   Reducing feature space\n",
      " Making the estimator\n"
     ]
    },
    {
     "name": "stderr",
     "output_type": "stream",
     "text": [
      "  Searching for regularisation parameter C:  55%|█████▌    | 11/20 [00:02<00:03,  2.78it/s]/home/fredrik/anaconda3/lib/python3.7/site-packages/sklearn/svm/_base.py:977: ConvergenceWarning: Liblinear failed to converge, increase the number of iterations.\n",
      "  \"the number of iterations.\", ConvergenceWarning)\n",
      "  Searching for regularisation parameter C: 100%|██████████| 20/20 [01:04<00:00,  3.21s/it]\n"
     ]
    },
    {
     "name": "stdout",
     "output_type": "stream",
     "text": [
      "  Best C: 0.00020691380811147902\n",
      "  Loaded feature set word_ngram_1\n",
      "   Reducing feature space\n",
      " Making the estimator\n"
     ]
    },
    {
     "name": "stderr",
     "output_type": "stream",
     "text": [
      "  Searching for regularisation parameter C:  60%|██████    | 12/20 [00:01<00:01,  5.10it/s]/home/fredrik/anaconda3/lib/python3.7/site-packages/sklearn/svm/_base.py:977: ConvergenceWarning: Liblinear failed to converge, increase the number of iterations.\n",
      "  \"the number of iterations.\", ConvergenceWarning)\n",
      "  Searching for regularisation parameter C: 100%|██████████| 20/20 [00:19<00:00,  1.03it/s]\n"
     ]
    },
    {
     "name": "stdout",
     "output_type": "stream",
     "text": [
      "  Best C: 0.00020691380811147902\n",
      "  Loaded feature set word_ngram_2\n",
      "   Reducing feature space\n",
      " Making the estimator\n"
     ]
    },
    {
     "name": "stderr",
     "output_type": "stream",
     "text": [
      "  Searching for regularisation parameter C:  50%|█████     | 10/20 [00:00<00:00, 89.23it/s]/home/fredrik/anaconda3/lib/python3.7/site-packages/sklearn/svm/_base.py:977: ConvergenceWarning: Liblinear failed to converge, increase the number of iterations.\n",
      "  \"the number of iterations.\", ConvergenceWarning)\n",
      "  Searching for regularisation parameter C: 100%|██████████| 20/20 [00:16<00:00,  1.25it/s]\n"
     ]
    },
    {
     "name": "stdout",
     "output_type": "stream",
     "text": [
      "  Best C: 0.0012742749857031347\n",
      "  Loaded feature set word_ngram_3\n",
      "   Reducing feature space\n",
      " Making the estimator\n"
     ]
    },
    {
     "name": "stderr",
     "output_type": "stream",
     "text": [
      "  Searching for regularisation parameter C:  60%|██████    | 12/20 [00:00<00:00, 29.05it/s]/home/fredrik/anaconda3/lib/python3.7/site-packages/sklearn/svm/_base.py:977: ConvergenceWarning: Liblinear failed to converge, increase the number of iterations.\n",
      "  \"the number of iterations.\", ConvergenceWarning)\n",
      "  Searching for regularisation parameter C: 100%|██████████| 20/20 [00:05<00:00,  3.54it/s]\n"
     ]
    },
    {
     "name": "stdout",
     "output_type": "stream",
     "text": [
      "  Best C: 69.5192796177562\n",
      "\n",
      " Results\n",
      "  bow_words, 25.5%\n",
      "  unique predicted classes: [1700]\n",
      "  tfidf_words, 29.7%\n",
      "  unique predicted classes: [1700 1725 1775 1800 1825 1850 1875 1900 1925 1950 1975 2000]\n",
      "  character_ngram_1, 31.0%\n",
      "  unique predicted classes: [1700 1725 1775 1800 1825 1850 1875 1900 1925 1950 1975 2000]\n",
      "  character_ngram_2, 32.9%\n",
      "  unique predicted classes: [1700 1725 1775 1800 1825 1850 1875 1900 1925 1950 1975 2000]\n",
      "  character_ngram_3, 35.5%\n",
      "  unique predicted classes: [1700 1725 1775 1800 1825 1850 1875 1900 1925 1950 1975 2000]\n",
      "  word_ngram_1, 32.9%\n",
      "  unique predicted classes: [1700 1725 1775 1800 1825 1850 1875 1900 1925 1950 1975 2000]\n",
      "  word_ngram_2, 27.2%\n",
      "  unique predicted classes: [1700 1725 1775 1800 1825 1850 1875 1900 1925 1950 1975 2000]\n",
      "  word_ngram_3, 27.4%\n",
      "  unique predicted classes: [1700 1725 1800 1825 1850 1875 1900 1925 1950 1975 2000]\n",
      " Controls\n",
      "  MLE choice: 25.5%\n",
      "  Uniform: 8.3%\n",
      "  Weighted: 11.9%\n"
     ]
    }
   ],
   "source": [
    "for data_source_filename in set(data_source_filenames).symmetric_difference(set(results.keys())):\n",
    "#for data_source_filename in data_source_filenames:\n",
    "    dataset = load_dataset(data_source_filename)\n",
    "    y = np.asarray([np.mean(item['date']) if type(item['date']) is tuple else item['date'] for item in dataset['data']], np.int)\n",
    "    y = bin_width*(y//bin_width)\n",
    "    print(\" Classes in data: %s\" % np.unique(y))\n",
    "    \n",
    "    training_set = dataset['folds']['train']\n",
    "    validation_set = dataset['folds']['val']\n",
    "    test_set = dataset['folds']['test']\n",
    "    training_validation_set = list()\n",
    "    training_validation_set.extend(training_set)\n",
    "    training_validation_set.extend(validation_set)\n",
    "    \n",
    "    results[data_source_filename] = dict()\n",
    "    print(\" Running estimations\", flush=True)\n",
    "    for feature_set in list(dataset['feature_sets'].keys()):\n",
    "        X = dataset['feature_sets'][feature_set]\n",
    "        print(\"  Loaded feature set %s\" % feature_set)\n",
    "        n_samples, n_features = X.shape\n",
    "        y_pred = np.zeros(y.shape)\n",
    "        \n",
    "        # Chi^2 feature selection\n",
    "        if n_features > n_features_max:\n",
    "            print(\"   Reducing feature space\")\n",
    "            feature_selector = SelectKBest(chi2, k=n_features_max).fit(X[training_validation_set], y[training_validation_set])\n",
    "            X = feature_selector.transform(X)\n",
    "            n_features = X.shape[1]\n",
    "        # Zero mean\n",
    "        X = X.tocsc(copy=True).astype(np.float)\n",
    "        for i in range(X.shape[1]):\n",
    "            if X.indptr[i] < X.indptr[i+1]:\n",
    "                X.data[X.indptr[i]:X.indptr[i+1]] -= np.mean(X.data[X.indptr[i]:X.indptr[i+1]])\n",
    "        X = StandardScaler(with_mean=False).fit_transform(X)\n",
    "        X = X.tocsr(copy=True)\n",
    "\n",
    "        C = np.logspace(-10, 5, 20)\n",
    "        validation_accuracy = list()\n",
    "        print(\" Making the estimator\", flush=True)\n",
    "        for c in tqdm(C, desc=\"  Searching for regularisation parameter C\"):\n",
    "            estimator = LinearSVC(dual=(n_samples<=n_features), class_weight='balanced', C=c)\n",
    "            estimator.fit(X[training_set, :], y[training_set])\n",
    "            validation_accuracy.append(accuracy_score(y[validation_set], estimator.predict(X[validation_set, :]).ravel()))\n",
    "        estimator = LinearSVC(dual=(n_samples<=n_features), \n",
    "                              class_weight='balanced', C=C[np.argmax(validation_accuracy)])\n",
    "        print(\"  Best C:\", C[np.argmax(validation_accuracy)])\n",
    "        estimator.fit(X[training_validation_set, :], y[training_validation_set])\n",
    "        y_pred = estimator.predict(X[test_set, :])\n",
    "        results[data_source_filename][feature_set] = {'accuracy': accuracy_score(y[test_set], y_pred), \n",
    "                                                      'y_pred': y_pred, 'y_true': y[test_set]}\n",
    "\n",
    "    print()\n",
    "    print(\" Results\")\n",
    "    for feature_set in results[data_source_filename].keys():\n",
    "        print(\"  %s, %.1f%%\" % (feature_set, 100*results[data_source_filename][feature_set]['accuracy']))\n",
    "        print(\"  unique predicted classes: %s\" % np.unique(results[data_source_filename][feature_set]['y_pred']))\n",
    "\n",
    "    def class_counter(data):\n",
    "        count = dict()\n",
    "        for e in data:\n",
    "            if e in count:\n",
    "                count[e] += 1\n",
    "            else:\n",
    "                count[e] = 1\n",
    "        return count\n",
    "\n",
    "    count = class_counter(y)\n",
    "    print(\" Controls\")\n",
    "    print(\"  MLE choice: %.1f%%\" % (100*np.max(list(count.values()))/len(y)))\n",
    "    print(\"  Uniform: %.1f%%\" % (100*np.mean([np.sum(np.random.choice(np.unique(y), size=len(y), replace=True)==y)/len(y) for i in range(1000)])))\n",
    "    print(\"  Weighted: %.1f%%\" % (100*np.mean([np.sum(np.random.choice(y, size=len(y), replace=False)==y)/len(y) for i in range(1000)])))"
   ]
  },
  {
   "cell_type": "code",
   "execution_count": 5,
   "metadata": {
    "colab": {
     "base_uri": "https://localhost:8080/",
     "height": 799
    },
    "colab_type": "code",
    "id": "oF_VTZESh-gj",
    "outputId": "16dfdf2c-aa02-4552-efc7-3da40c02558d"
   },
   "outputs": [
    {
     "name": "stdout",
     "output_type": "stream",
     "text": [
      "Loading velux_dipl_latin.npz... done (0.2s)\n",
      "Saving velux_dipl_latin.npz... done (0.4s)\n",
      "Loading StClare_dipl_danish.npz... done (0.0s)\n",
      "Saving StClare_dipl_danish.npz... done (0.1s)\n",
      "Loading velux_dipl_danish.npz... done (0.0s)\n",
      "Saving velux_dipl_danish.npz... done (0.1s)\n",
      "Loading velux_facs_danish.npz... done (0.0s)\n",
      "Saving velux_facs_danish.npz... done (0.1s)\n",
      "Loading StClare_dipl_latin.npz... done (0.1s)\n",
      "Saving StClare_dipl_latin.npz... done (0.3s)\n",
      "Loading SDHK_Latin.npz... done (1.8s)\n",
      "Saving SDHK_Latin.npz... done (8.1s)\n",
      "Loading StClare_facs_latin.npz... done (0.1s)\n",
      "Saving StClare_facs_latin.npz... done (0.4s)\n",
      "Loading StClare_facs_danish.npz... done (0.0s)\n",
      "Saving StClare_facs_danish.npz... done (0.1s)\n",
      "Loading velux_facs_latin.npz... done (0.1s)\n",
      "Saving velux_facs_latin.npz... done (0.4s)\n",
      "Loading Colonia.npz... done (7.4s)\n",
      "Saving Colonia.npz... done (20.0s)\n",
      "Loading SDHK_Swedish.npz... done (0.7s)\n",
      "Saving SDHK_Swedish.npz... done (3.3s)\n",
      "Loading SemEval2015.npz... done (0.2s)\n",
      "Saving SemEval2015.npz... done (1.3s)\n"
     ]
    }
   ],
   "source": [
    "for data_source_filename in results.keys():\n",
    "    dataset = load_dataset(data_source_filename)\n",
    "    print(\" Saving %s... \" % data_source_filename.split(\"/\")[-1], end=\"\")\n",
    "    t = time.time()\n",
    "    if 'linearsvc' in dataset.keys():\n",
    "        dataset.pop('linearsvc')\n",
    "    np.savez_compressed(data_source_filename, **dataset, linearsvc=results[data_source_filename])\n",
    "    print(\"done (%.1fs)\" % (time.time()-t), flush=True)"
   ]
  }
 ],
 "metadata": {
  "colab": {
   "name": "Dating - NB & SVM.ipynb",
   "provenance": [],
   "toc_visible": true
  },
  "kernelspec": {
   "display_name": "Python 3",
   "language": "python",
   "name": "python3"
  },
  "language_info": {
   "codemirror_mode": {
    "name": "ipython",
    "version": 3
   },
   "file_extension": ".py",
   "mimetype": "text/x-python",
   "name": "python",
   "nbconvert_exporter": "python",
   "pygments_lexer": "ipython3",
   "version": "3.7.4"
  }
 },
 "nbformat": 4,
 "nbformat_minor": 4
}
