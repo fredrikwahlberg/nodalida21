{
 "cells": [
  {
   "cell_type": "markdown",
   "metadata": {
    "colab_type": "text",
    "id": "hOwQxMVvaXzq"
   },
   "source": [
    "# Naive Bayes"
   ]
  },
  {
   "cell_type": "code",
   "execution_count": 1,
   "metadata": {
    "colab": {},
    "colab_type": "code",
    "id": "exLjKh6Rv2rI"
   },
   "outputs": [],
   "source": [
    "import os\n",
    "import os.path\n",
    "import numpy as np\n",
    "import time\n",
    "from tqdm import tqdm\n",
    "\n",
    "assert os.path.exists('data')"
   ]
  },
  {
   "cell_type": "code",
   "execution_count": 2,
   "metadata": {
    "colab": {
     "base_uri": "https://localhost:8080/",
     "height": 85
    },
    "colab_type": "code",
    "id": "SGJirJ09zZet",
    "outputId": "0350b466-b606-4529-a902-52c738793c15"
   },
   "outputs": [
    {
     "data": {
      "text/plain": [
       "['data/StClare_facs_danish.npz',\n",
       " 'data/SDHK_Latin.npz',\n",
       " 'data/StClare_facs_latin.npz',\n",
       " 'data/StClare_dipl_danish.npz',\n",
       " 'data/StClare_dipl_latin.npz',\n",
       " 'data/velux_facs_danish.npz',\n",
       " 'data/SDHK_Swedish.npz',\n",
       " 'data/Colonia.npz',\n",
       " 'data/SemEval2015.npz',\n",
       " 'data/velux_dipl_latin.npz',\n",
       " 'data/velux_facs_latin.npz',\n",
       " 'data/velux_dipl_danish.npz']"
      ]
     },
     "execution_count": 2,
     "metadata": {},
     "output_type": "execute_result"
    }
   ],
   "source": [
    "def load_dataset(data_source_filename):\n",
    "  print(\"Loading %s... \" % data_source_filename.split(\"/\")[-1], end=\"\")\n",
    "  t = time.time()\n",
    "  dataset = dict()\n",
    "  with np.load(data_source_filename, allow_pickle=True) as source_file:\n",
    "    for key in source_file.keys():\n",
    "      # print(key)\n",
    "      dataset[key] = source_file[key].tolist()\n",
    "  print(\"done (%.1fs)\" % (time.time()-t), flush=True)\n",
    "  return dataset\n",
    "\n",
    "data_source_filenames = [os.path.join('data', fn) for fn in os.listdir('data')\n",
    "                            if os.path.isfile(os.path.join('data', fn)) and fn[-3:]=='npz']\n",
    "data_source_filenames"
   ]
  },
  {
   "cell_type": "code",
   "execution_count": 3,
   "metadata": {
    "colab": {},
    "colab_type": "code",
    "id": "ECsyw3WHpzVP"
   },
   "outputs": [],
   "source": [
    "from sklearn.naive_bayes import MultinomialNB, GaussianNB\n",
    "\n",
    "bin_width = 25\n",
    "\n",
    "results_multinomial = dict()\n",
    "results_gaussian = dict()"
   ]
  },
  {
   "cell_type": "markdown",
   "metadata": {},
   "source": [
    "## Multinomial NB"
   ]
  },
  {
   "cell_type": "code",
   "execution_count": 9,
   "metadata": {
    "colab": {
     "base_uri": "https://localhost:8080/",
     "height": 510
    },
    "colab_type": "code",
    "id": "oZXxhZBRV2Wt",
    "outputId": "e95fefea-2cfe-43dd-8bd1-1cdad46986de"
   },
   "outputs": [],
   "source": [
    "for data_source_filename in set(data_source_filenames).symmetric_difference(set(results_multinomial.keys())):\n",
    "#for data_source_filename in data_source_filenames:\n",
    "    dataset = load_dataset(data_source_filename)\n",
    "    y = np.asarray([np.mean(item['date']) if type(item['date']) is tuple else item['date'] for item in dataset['data']], np.int)\n",
    "    y = bin_width*(y//bin_width)\n",
    "    print(\" Classes in data: %s\" % np.unique(y))\n",
    "\n",
    "    training_set = dataset['folds']['train']\n",
    "    validation_set = dataset['folds']['val']\n",
    "    test_set = dataset['folds']['test']\n",
    "    training_validation_set = list()\n",
    "    training_validation_set.extend(training_set)\n",
    "    training_validation_set.extend(validation_set)\n",
    "\n",
    "    results_multinomial[data_source_filename] = dict()\n",
    "    print(\" Running estimations\", flush=True)\n",
    "    for feature_set in dataset['feature_sets'].keys():\n",
    "        X = dataset['feature_sets'][feature_set]\n",
    "        estimator = MultinomialNB()\n",
    "        estimator.fit(X[training_validation_set, :], y[training_validation_set])\n",
    "        y_pred = estimator.predict(X[test_set, :])\n",
    "        results_multinomial[data_source_filename][feature_set] = {'accuracy': np.sum(y[test_set]==y_pred)/len(test_set),\n",
    "                                                                  'y_pred': y_pred, 'y_test': y[test_set]}\n",
    "\n",
    "    print(\" Results multinomial\")\n",
    "    for feature_set in results_multinomial[data_source_filename].keys():\n",
    "        print(\"  %s, %.1f%%\" % (feature_set, 100*results_multinomial[data_source_filename][feature_set]['accuracy']))\n",
    "        print(\"   unique predicted classes: %s\" % np.unique(results_multinomial[data_source_filename][feature_set]['y_pred']))"
   ]
  },
  {
   "cell_type": "code",
   "execution_count": 10,
   "metadata": {
    "colab": {
     "base_uri": "https://localhost:8080/",
     "height": 510
    },
    "colab_type": "code",
    "id": "oZXxhZBRV2Wt",
    "outputId": "e95fefea-2cfe-43dd-8bd1-1cdad46986de"
   },
   "outputs": [
    {
     "name": "stdout",
     "output_type": "stream",
     "text": [
      "Loading StClare_facs_latin.npz... done (0.1s)\n",
      " Saving StClare_facs_latin.npz... done (0.4s)\n",
      "Loading SDHK_Swedish.npz... done (0.8s)\n",
      " Saving SDHK_Swedish.npz... done (3.3s)\n",
      "Loading Colonia.npz... done (7.4s)\n",
      " Saving Colonia.npz... done (19.9s)\n",
      "Loading StClare_facs_danish.npz... done (0.0s)\n",
      " Saving StClare_facs_danish.npz... done (0.2s)\n",
      "Loading SemEval2015.npz... done (0.3s)\n",
      " Saving SemEval2015.npz... done (1.4s)\n",
      "Loading velux_dipl_latin.npz... done (0.1s)\n",
      " Saving velux_dipl_latin.npz... done (0.4s)\n",
      "Loading StClare_dipl_latin.npz... done (0.1s)\n",
      " Saving StClare_dipl_latin.npz... done (0.3s)\n",
      "Loading velux_facs_latin.npz... done (0.1s)\n",
      " Saving velux_facs_latin.npz... done (0.4s)\n",
      "Loading StClare_dipl_danish.npz... done (0.0s)\n",
      " Saving StClare_dipl_danish.npz... done (0.1s)\n",
      "Loading velux_dipl_danish.npz... done (0.0s)\n",
      " Saving velux_dipl_danish.npz... done (0.1s)\n",
      "Loading velux_facs_danish.npz... done (0.0s)\n",
      " Saving velux_facs_danish.npz... done (0.1s)\n",
      "Loading SDHK_Latin.npz... done (1.7s)\n",
      " Saving SDHK_Latin.npz... done (8.2s)\n"
     ]
    }
   ],
   "source": [
    "for data_source_filename in results_multinomial.keys():\n",
    "    dataset = load_dataset(data_source_filename)\n",
    "    print(\" Saving %s... \" % data_source_filename.split(\"/\")[-1], end=\"\")\n",
    "    t = time.time()\n",
    "    if 'multinomial_naive_bayes' in dataset.keys():\n",
    "        dataset.pop('multinomial_naive_bayes')\n",
    "    np.savez_compressed(data_source_filename, **dataset, multinomial_naive_bayes=results_multinomial[data_source_filename])\n",
    "    print(\"done (%.1fs)\" % (time.time()-t), flush=True)"
   ]
  },
  {
   "cell_type": "markdown",
   "metadata": {},
   "source": [
    "## Gausian NB"
   ]
  },
  {
   "cell_type": "code",
   "execution_count": 8,
   "metadata": {},
   "outputs": [],
   "source": [
    "for data_source_filename in set(data_source_filenames).symmetric_difference(set(results_gaussian.keys())):\n",
    "#for data_source_filename in data_source_filenames:\n",
    "    dataset = load_dataset(data_source_filename)\n",
    "    y = np.asarray([np.mean(item['date']) if type(item['date']) is tuple else item['date'] for item in dataset['data']], np.int)\n",
    "    y = bin_width*(y//bin_width)\n",
    "    print(\" Classes in data: %s\" % np.unique(y))\n",
    "\n",
    "    training_set = dataset['folds']['train']\n",
    "    validation_set = dataset['folds']['val']\n",
    "    test_set = dataset['folds']['test']\n",
    "    training_validation_set = list()\n",
    "    training_validation_set.extend(training_set)\n",
    "    training_validation_set.extend(validation_set)\n",
    "\n",
    "    results_gaussian[data_source_filename] = dict()\n",
    "    print(\" Running estimations\", flush=True)\n",
    "    for feature_set in dataset['feature_sets'].keys():\n",
    "        X = dataset['feature_sets'][feature_set]\n",
    "        if np.prod(X[training_validation_set, :].shape)*8 < 10e9: # max 10Gb allowed memory\n",
    "            estimator = GaussianNB()\n",
    "            estimator.fit(X[training_validation_set, :].todense(), y[training_validation_set])\n",
    "            y_pred = estimator.predict(X[test_set, :].todense())\n",
    "            results_gaussian[data_source_filename][feature_set] = {'accuracy': np.sum(y[test_set]==y_pred)/len(test_set),\n",
    "                                                                   'y_pred': y_pred, 'y_test': y[test_set]}\n",
    "    print(\" Results gaussian\")\n",
    "    for feature_set in results_gaussian[data_source_filename].keys():\n",
    "        print(\"  %s, %.1f%%\" % (feature_set, 100*results_gaussian[data_source_filename][feature_set]['accuracy']))\n",
    "        print(\"   unique predicted classes: %s\" % np.unique(results_gaussian[data_source_filename][feature_set]['y_pred']))"
   ]
  },
  {
   "cell_type": "code",
   "execution_count": 11,
   "metadata": {
    "colab": {
     "base_uri": "https://localhost:8080/",
     "height": 510
    },
    "colab_type": "code",
    "id": "oZXxhZBRV2Wt",
    "outputId": "e95fefea-2cfe-43dd-8bd1-1cdad46986de"
   },
   "outputs": [
    {
     "name": "stdout",
     "output_type": "stream",
     "text": [
      "Loading StClare_facs_latin.npz... done (0.1s)\n",
      " Saving StClare_facs_latin.npz... done (0.4s)\n",
      "Loading SDHK_Swedish.npz... done (0.8s)\n",
      " Saving SDHK_Swedish.npz... done (3.2s)\n",
      "Loading Colonia.npz... done (7.7s)\n",
      " Saving Colonia.npz... done (19.6s)\n",
      "Loading StClare_facs_danish.npz... done (0.0s)\n",
      " Saving StClare_facs_danish.npz... done (0.1s)\n",
      "Loading SemEval2015.npz... done (0.3s)\n",
      " Saving SemEval2015.npz... done (1.3s)\n",
      "Loading velux_dipl_latin.npz... done (0.1s)\n",
      " Saving velux_dipl_latin.npz... done (0.4s)\n",
      "Loading StClare_dipl_latin.npz... done (0.1s)\n",
      " Saving StClare_dipl_latin.npz... done (0.3s)\n",
      "Loading velux_facs_latin.npz... done (0.1s)\n",
      " Saving velux_facs_latin.npz... done (0.4s)\n",
      "Loading StClare_dipl_danish.npz... done (0.0s)\n",
      " Saving StClare_dipl_danish.npz... done (0.1s)\n",
      "Loading velux_dipl_danish.npz... done (0.0s)\n",
      " Saving velux_dipl_danish.npz... done (0.1s)\n",
      "Loading velux_facs_danish.npz... done (0.0s)\n",
      " Saving velux_facs_danish.npz... done (0.1s)\n",
      "Loading SDHK_Latin.npz... done (1.7s)\n",
      " Saving SDHK_Latin.npz... done (8.1s)\n"
     ]
    }
   ],
   "source": [
    "for data_source_filename in results_gaussian.keys():\n",
    "    dataset = load_dataset(data_source_filename)\n",
    "    print(\" Saving %s... \" % data_source_filename.split(\"/\")[-1], end=\"\")\n",
    "    t = time.time()\n",
    "    if 'gaussian_naive_bayes' in dataset.keys():\n",
    "        dataset.pop('gaussian_naive_bayes')\n",
    "    np.savez_compressed(data_source_filename, **dataset, gaussian_naive_bayes=results_gaussian[data_source_filename])\n",
    "    print(\"done (%.1fs)\" % (time.time()-t), flush=True)"
   ]
  }
 ],
 "metadata": {
  "colab": {
   "name": "Dating - NB & SVM.ipynb",
   "provenance": [],
   "toc_visible": true
  },
  "kernelspec": {
   "display_name": "Python 3",
   "language": "python",
   "name": "python3"
  },
  "language_info": {
   "codemirror_mode": {
    "name": "ipython",
    "version": 3
   },
   "file_extension": ".py",
   "mimetype": "text/x-python",
   "name": "python",
   "nbconvert_exporter": "python",
   "pygments_lexer": "ipython3",
   "version": "3.7.4"
  }
 },
 "nbformat": 4,
 "nbformat_minor": 4
}
