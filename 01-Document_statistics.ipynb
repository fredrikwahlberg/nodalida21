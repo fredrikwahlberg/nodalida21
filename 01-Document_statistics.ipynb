{
 "cells": [
  {
   "cell_type": "code",
   "execution_count": 13,
   "metadata": {},
   "outputs": [],
   "source": [
    "import os\n",
    "import numpy as np\n",
    "import time\n",
    "from pprint import pprint\n",
    "\n",
    "import re\n",
    "import matplotlib.pyplot as plt\n",
    "import pandas as pd"
   ]
  },
  {
   "cell_type": "code",
   "execution_count": 14,
   "metadata": {},
   "outputs": [],
   "source": [
    "def load_dataset(data_source_filename):\n",
    "    print(\"Loading %s... \" % data_source_filename.split(\"/\")[-1], end=\"\")\n",
    "    t = time.time()\n",
    "    dataset = dict()\n",
    "    with np.load(data_source_filename, allow_pickle=True) as source_file:\n",
    "        for key in source_file.keys():\n",
    "            # print(key)\n",
    "            dataset[key] = source_file[key].tolist()\n",
    "    print(\"done (%.1fs)\" % (time.time()-t), flush=True)\n",
    "    return dataset\n",
    "\n",
    "data_source_filenames = [os.path.join('data', fn) for fn in os.listdir('data')\n",
    "                            if os.path.isfile(os.path.join('data', fn)) and fn[-3:]=='npz']"
   ]
  },
  {
   "cell_type": "code",
   "execution_count": 15,
   "metadata": {},
   "outputs": [
    {
     "data": {
      "text/plain": [
       "['data/SDHK_Swedish.npz',\n",
       " 'data/velux_dipl_latin.npz',\n",
       " 'data/velux_facs_latin.npz',\n",
       " 'data/velux_facs_danish.npz',\n",
       " 'data/Colonia.npz',\n",
       " 'data/SemEval2015.npz',\n",
       " 'data/velux_dipl_danish.npz',\n",
       " 'data/SDHK_Latin.npz']"
      ]
     },
     "execution_count": 15,
     "metadata": {},
     "output_type": "execute_result"
    }
   ],
   "source": [
    "data_source_filenames"
   ]
  },
  {
   "cell_type": "code",
   "execution_count": 16,
   "metadata": {},
   "outputs": [],
   "source": [
    "def tokenize(text):\n",
    "    return re.findall(\"\\w+\", text, re.UNICODE)\n",
    "\n",
    "def collection_counts(documents):\n",
    "    doc_lengths = map(lambda doc: len(doc), documents) # Number of tokens pr document\n",
    "    \n",
    "    words = list(word for doc in documents for word in doc)\n",
    "    word_lengths = map(lambda word: len(word), words)\n",
    "    \n",
    "    ttr = len(set(words))/len(words)\n",
    "    \n",
    "    return list(doc_lengths), list(word_lengths), ttr\n",
    "    "
   ]
  },
  {
   "cell_type": "code",
   "execution_count": 17,
   "metadata": {},
   "outputs": [
    {
     "name": "stdout",
     "output_type": "stream",
     "text": [
      "Loading Colonia.npz... done (8.6s)\n",
      "Loading SDHK_Latin.npz... done (2.9s)\n",
      "Loading SDHK_Swedish.npz... done (0.9s)\n",
      "Loading SemEval2015.npz... done (0.3s)\n",
      "Loading velux_dipl_danish.npz... done (0.0s)\n",
      "Loading velux_dipl_latin.npz... done (0.0s)\n",
      "Loading velux_facs_danish.npz... done (0.0s)\n",
      "Loading velux_facs_latin.npz... done (0.1s)\n"
     ]
    }
   ],
   "source": [
    "num_docs = list()\n",
    "doc_lengths = list()\n",
    "word_lengths = list()\n",
    "ttrs = list()\n",
    "data_source_filenames.sort()\n",
    "data_source_names = [data_source_filename[data_source_filename.rfind(\"/\")+1:data_source_filename.rfind(\".\")] for data_source_filename in data_source_filenames]\n",
    "\n",
    "for data_source_filename in data_source_filenames:\n",
    "    dataset = load_dataset(data_source_filename)\n",
    "    dataname = data_source_filename[data_source_filename.rfind(\"/\")+1:data_source_filename.rfind(\".\")]\n",
    "    \n",
    "    try:\n",
    "        X = list(map(lambda x: tokenize(x[\"text\"]), dataset['data']))\n",
    "    except KeyError:\n",
    "        X = list(map(lambda x: tokenize(\"\\n\".join([\" \".join(sentence) \n",
    "                                                            for sentence in x[\"tokens\"]])), \n",
    "                                                 dataset['data']))\n",
    "        \n",
    "    \n",
    "    doc_length, word_length, ttr = collection_counts(X)\n",
    "    \n",
    "    doc_lengths.append(doc_length)\n",
    "    word_lengths.append(word_length)\n",
    "    num_docs.append(len(X))\n",
    "    ttrs.append(ttr)"
   ]
  },
  {
   "cell_type": "markdown",
   "metadata": {},
   "source": [
    "## Collection size"
   ]
  },
  {
   "cell_type": "code",
   "execution_count": 18,
   "metadata": {},
   "outputs": [
    {
     "name": "stdout",
     "output_type": "stream",
     "text": [
      "[('Colonia', 99),\n",
      " ('SDHK_Latin', 7572),\n",
      " ('SDHK_Swedish', 3086),\n",
      " ('SemEval2015', 3370),\n",
      " ('velux_dipl_danish', 98),\n",
      " ('velux_dipl_latin', 358),\n",
      " ('velux_facs_danish', 98),\n",
      " ('velux_facs_latin', 358)]\n"
     ]
    }
   ],
   "source": [
    "pprint(list(zip(data_source_names, num_docs)))"
   ]
  },
  {
   "cell_type": "markdown",
   "metadata": {},
   "source": [
    "## Type-to-token ratio"
   ]
  },
  {
   "cell_type": "code",
   "execution_count": 19,
   "metadata": {},
   "outputs": [
    {
     "name": "stdout",
     "output_type": "stream",
     "text": [
      "[('Colonia', 0.03198154829552504),\n",
      " ('SDHK_Latin', 0.06206886394765135),\n",
      " ('SDHK_Swedish', 0.10999692488328534),\n",
      " ('SemEval2015', 0.11403727637915118),\n",
      " ('velux_dipl_danish', 0.19768507354714251),\n",
      " ('velux_dipl_latin', 0.10083213336287107),\n",
      " ('velux_facs_danish', 0.2915425381793095),\n",
      " ('velux_facs_latin', 0.21909677692870239)]\n"
     ]
    }
   ],
   "source": [
    "pprint(list(zip(data_source_names, ttrs)))"
   ]
  },
  {
   "cell_type": "markdown",
   "metadata": {},
   "source": [
    "## Document length"
   ]
  },
  {
   "cell_type": "code",
   "execution_count": 20,
   "metadata": {},
   "outputs": [],
   "source": [
    "from scipy import stats"
   ]
  },
  {
   "cell_type": "code",
   "execution_count": 21,
   "metadata": {},
   "outputs": [],
   "source": [
    "descriptions = pd.DataFrame()\n",
    "\n",
    "for name, lengths in zip(data_source_names, doc_lengths):\n",
    "    descr = pd.DataFrame({name:lengths}).describe().astype(int)\n",
    "    descriptions = pd.concat([descriptions, descr], axis=1)"
   ]
  },
  {
   "cell_type": "code",
   "execution_count": 22,
   "metadata": {},
   "outputs": [
    {
     "data": {
      "text/html": [
       "<div>\n",
       "<style scoped>\n",
       "    .dataframe tbody tr th:only-of-type {\n",
       "        vertical-align: middle;\n",
       "    }\n",
       "\n",
       "    .dataframe tbody tr th {\n",
       "        vertical-align: top;\n",
       "    }\n",
       "\n",
       "    .dataframe thead th {\n",
       "        text-align: right;\n",
       "    }\n",
       "</style>\n",
       "<table border=\"1\" class=\"dataframe\">\n",
       "  <thead>\n",
       "    <tr style=\"text-align: right;\">\n",
       "      <th></th>\n",
       "      <th>Colonia</th>\n",
       "      <th>SDHK_Latin</th>\n",
       "      <th>SDHK_Swedish</th>\n",
       "      <th>SemEval2015</th>\n",
       "      <th>velux_dipl_danish</th>\n",
       "      <th>velux_dipl_latin</th>\n",
       "      <th>velux_facs_danish</th>\n",
       "      <th>velux_facs_latin</th>\n",
       "    </tr>\n",
       "  </thead>\n",
       "  <tbody>\n",
       "    <tr>\n",
       "      <th>count</th>\n",
       "      <td>99</td>\n",
       "      <td>7572</td>\n",
       "      <td>3086</td>\n",
       "      <td>3370</td>\n",
       "      <td>98</td>\n",
       "      <td>358</td>\n",
       "      <td>98</td>\n",
       "      <td>358</td>\n",
       "    </tr>\n",
       "    <tr>\n",
       "      <th>mean</th>\n",
       "      <td>48848</td>\n",
       "      <td>233</td>\n",
       "      <td>231</td>\n",
       "      <td>71</td>\n",
       "      <td>423</td>\n",
       "      <td>403</td>\n",
       "      <td>325</td>\n",
       "      <td>263</td>\n",
       "    </tr>\n",
       "    <tr>\n",
       "      <th>std</th>\n",
       "      <td>35680</td>\n",
       "      <td>266</td>\n",
       "      <td>173</td>\n",
       "      <td>38</td>\n",
       "      <td>197</td>\n",
       "      <td>311</td>\n",
       "      <td>157</td>\n",
       "      <td>198</td>\n",
       "    </tr>\n",
       "    <tr>\n",
       "      <th>min</th>\n",
       "      <td>0</td>\n",
       "      <td>9</td>\n",
       "      <td>13</td>\n",
       "      <td>4</td>\n",
       "      <td>149</td>\n",
       "      <td>98</td>\n",
       "      <td>106</td>\n",
       "      <td>67</td>\n",
       "    </tr>\n",
       "    <tr>\n",
       "      <th>25%</th>\n",
       "      <td>22073</td>\n",
       "      <td>105</td>\n",
       "      <td>144</td>\n",
       "      <td>43</td>\n",
       "      <td>265</td>\n",
       "      <td>215</td>\n",
       "      <td>214</td>\n",
       "      <td>148</td>\n",
       "    </tr>\n",
       "    <tr>\n",
       "      <th>50%</th>\n",
       "      <td>49603</td>\n",
       "      <td>158</td>\n",
       "      <td>198</td>\n",
       "      <td>64</td>\n",
       "      <td>398</td>\n",
       "      <td>315</td>\n",
       "      <td>304</td>\n",
       "      <td>204</td>\n",
       "    </tr>\n",
       "    <tr>\n",
       "      <th>75%</th>\n",
       "      <td>60988</td>\n",
       "      <td>258</td>\n",
       "      <td>273</td>\n",
       "      <td>92</td>\n",
       "      <td>518</td>\n",
       "      <td>467</td>\n",
       "      <td>388</td>\n",
       "      <td>307</td>\n",
       "    </tr>\n",
       "    <tr>\n",
       "      <th>max</th>\n",
       "      <td>218083</td>\n",
       "      <td>4960</td>\n",
       "      <td>3179</td>\n",
       "      <td>264</td>\n",
       "      <td>1045</td>\n",
       "      <td>3305</td>\n",
       "      <td>975</td>\n",
       "      <td>2027</td>\n",
       "    </tr>\n",
       "  </tbody>\n",
       "</table>\n",
       "</div>"
      ],
      "text/plain": [
       "       Colonia  SDHK_Latin  SDHK_Swedish  SemEval2015  velux_dipl_danish  \\\n",
       "count       99        7572          3086         3370                 98   \n",
       "mean     48848         233           231           71                423   \n",
       "std      35680         266           173           38                197   \n",
       "min          0           9            13            4                149   \n",
       "25%      22073         105           144           43                265   \n",
       "50%      49603         158           198           64                398   \n",
       "75%      60988         258           273           92                518   \n",
       "max     218083        4960          3179          264               1045   \n",
       "\n",
       "       velux_dipl_latin  velux_facs_danish  velux_facs_latin  \n",
       "count               358                 98               358  \n",
       "mean                403                325               263  \n",
       "std                 311                157               198  \n",
       "min                  98                106                67  \n",
       "25%                 215                214               148  \n",
       "50%                 315                304               204  \n",
       "75%                 467                388               307  \n",
       "max                3305                975              2027  "
      ]
     },
     "execution_count": 22,
     "metadata": {},
     "output_type": "execute_result"
    }
   ],
   "source": [
    "descriptions"
   ]
  },
  {
   "cell_type": "code",
   "execution_count": 23,
   "metadata": {},
   "outputs": [
    {
     "data": {
      "image/png": "[encoded data removed]",
      "text/plain": [
       "<Figure size 720x720 with 1 Axes>"
      ]
     },
     "metadata": {
      "needs_background": "light"
     },
     "output_type": "display_data"
    }
   ],
   "source": [
    "plt.figure(figsize=(10,10))\n",
    "plt.boxplot(doc_lengths[1:], labels=data_source_names[1:])\n",
    "plt.show()"
   ]
  },
  {
   "cell_type": "code",
   "execution_count": 24,
   "metadata": {},
   "outputs": [
    {
     "data": {
      "image/png": "[encoded data removed]",
      "text/plain": [
       "<Figure size 720x720 with 1 Axes>"
      ]
     },
     "metadata": {
      "needs_background": "light"
     },
     "output_type": "display_data"
    }
   ],
   "source": [
    "plt.figure(figsize=(10,10))\n",
    "plt.boxplot(doc_lengths[0], labels=[data_source_names[0]])\n",
    "plt.show()"
   ]
  },
  {
   "cell_type": "code",
   "execution_count": null,
   "metadata": {},
   "outputs": [],
   "source": []
  }
 ],
 "metadata": {
  "kernelspec": {
   "display_name": "Python 3",
   "language": "python",
   "name": "python3"
  },
  "language_info": {
   "codemirror_mode": {
    "name": "ipython",
    "version": 3
   },
   "file_extension": ".py",
   "mimetype": "text/x-python",
   "name": "python",
   "nbconvert_exporter": "python",
   "pygments_lexer": "ipython3",
   "version": "3.7.4"
  }
 },
 "nbformat": 4,
 "nbformat_minor": 2
}
